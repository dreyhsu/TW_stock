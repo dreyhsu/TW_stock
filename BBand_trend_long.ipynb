{
 "cells": [
  {
   "cell_type": "code",
   "execution_count": 1,
   "metadata": {},
   "outputs": [],
   "source": [
    "import numpy as np\n",
    "import matplotlib.pyplot as plt\n",
    "from sklearn.naive_bayes import GaussianNB, BernoulliNB\n",
    "from sklearn.svm import SVC\n",
    "from sklearn.ensemble import ExtraTreesClassifier\n",
    "from sklearn.datasets import load_digits\n",
    "from sklearn.model_selection import learning_curve\n",
    "from sklearn.model_selection import ShuffleSplit\n",
    "from sklearn.ensemble import RandomForestClassifier\n",
    "from xgboost import XGBClassifier\n",
    "\n",
    "from sklearn.metrics import roc_curve\n",
    "from sklearn.metrics import classification_report\n",
    "from sklearn.metrics import confusion_matrix\n",
    "from sklearn.metrics import accuracy_score\n",
    "\n",
    "import joblib\n",
    "\n",
    "import lightgbm as lgb\n",
    "from lightgbm import LGBMClassifier\n",
    "\n",
    "import pandas as pd\n",
    "from sklearn.model_selection import train_test_split\n",
    "from sklearn.utils import resample"
   ]
  },
  {
   "cell_type": "code",
   "execution_count": 2,
   "metadata": {},
   "outputs": [],
   "source": [
    "def plot_learning_curve(estimator, title, X, y, ylim=None, cv=None,\n",
    "                        n_jobs=1, train_sizes=np.linspace(.1, 1.0, 5)):\n",
    "    \"\"\"\n",
    "    Generate a simple plot of the test and training learning curve.\n",
    "\n",
    "    Parameters\n",
    "    ----------\n",
    "    estimator : object type that implements the \"fit\" and \"predict\" methods\n",
    "        An object of that type which is cloned for each validation.\n",
    "\n",
    "    title : string\n",
    "        Title for the chart.\n",
    "\n",
    "    X : array-like, shape (n_samples, n_features)\n",
    "        Training vector, where n_samples is the number of samples and\n",
    "        n_features is the number of features.\n",
    "\n",
    "    y : array-like, shape (n_samples) or (n_samples, n_features), optional\n",
    "        Target relative to X for classification or regression;\n",
    "        None for unsupervised learning.\n",
    "\n",
    "    ylim : tuple, shape (ymin, ymax), optional\n",
    "        Defines minimum and maximum yvalues plotted.\n",
    "\n",
    "    cv : int, cross-validation generator or an iterable, optional\n",
    "        Determines the cross-validation splitting strategy.\n",
    "        Possible inputs for cv are:\n",
    "          - None, to use the default 3-fold cross-validation,\n",
    "          - integer, to specify the number of folds.\n",
    "          - An object to be used as a cross-validation generator.\n",
    "          - An iterable yielding train/test splits.\n",
    "\n",
    "        For integer/None inputs, if ``y`` is binary or multiclass,\n",
    "        :class:`StratifiedKFold` used. If the estimator is not a classifier\n",
    "        or if ``y`` is neither binary nor multiclass, :class:`KFold` is used.\n",
    "\n",
    "        Refer :ref:`User Guide <cross_validation>` for the various\n",
    "        cross-validators that can be used here.\n",
    "\n",
    "    n_jobs : integer, optional\n",
    "        Number of jobs to run in parallel (default 1).\n",
    "    \"\"\"\n",
    "    plt.figure()\n",
    "    plt.title(title)\n",
    "    if ylim is not None:\n",
    "        plt.ylim(*ylim)\n",
    "    plt.xlabel(\"Training examples\")\n",
    "    plt.ylabel(\"Score\")\n",
    "    train_sizes, train_scores, test_scores = learning_curve(\n",
    "        estimator, X, y, cv=cv, n_jobs=n_jobs, train_sizes=train_sizes)\n",
    "    train_scores_mean = np.mean(train_scores, axis=1)\n",
    "    train_scores_std = np.std(train_scores, axis=1)\n",
    "    test_scores_mean = np.mean(test_scores, axis=1)\n",
    "    test_scores_std = np.std(test_scores, axis=1)\n",
    "    plt.grid()\n",
    "\n",
    "    plt.fill_between(train_sizes, train_scores_mean - train_scores_std,\n",
    "                     train_scores_mean + train_scores_std, alpha=0.1,\n",
    "                     color=\"r\")\n",
    "    plt.fill_between(train_sizes, test_scores_mean - test_scores_std,\n",
    "                     test_scores_mean + test_scores_std, alpha=0.1, color=\"g\")\n",
    "    plt.plot(train_sizes, train_scores_mean, 'o-', color=\"r\",\n",
    "             label=\"Training score\")\n",
    "    plt.plot(train_sizes, test_scores_mean, 'o-', color=\"g\",\n",
    "             label=\"Cross-validation score\")\n",
    "\n",
    "    plt.legend(loc=\"best\")\n",
    "    return plt"
   ]
  },
  {
   "cell_type": "code",
   "execution_count": 3,
   "metadata": {},
   "outputs": [],
   "source": [
    "raw_data = pd.read_csv('training_data/mean_reverse_training_data.csv')"
   ]
  },
  {
   "cell_type": "code",
   "execution_count": 28,
   "metadata": {},
   "outputs": [
    {
     "name": "stdout",
     "output_type": "stream",
     "text": [
      "training_data.shape : (30228, 51)\n",
      "(21159, 49)\n",
      "(9069, 49)\n"
     ]
    }
   ],
   "source": [
    "training_data = raw_data.copy()\n",
    "training_data['out'] = training_data['out'].apply(lambda x:1 if x == 1 else 0)\n",
    "training_data = training_data.sort_values(by=['date'])\n",
    "training_data = training_data[training_data.side == -1]\n",
    "training_data = training_data[training_data.date > '2020-01-01']\n",
    "print(f'training_data.shape : {training_data.shape}')\n",
    "\n",
    "col_list = ['date', 'com_rev', 'd_yield', 'pb', 'AD', 'OBV', 'ADOSC', 'bias5',\n",
    "    'bias10', 'bias20', 'bias60', 'acc5', 'acc10', 'acc20', 'acc60', 'rsi',\n",
    "    'log_ret', 'mom1', 'mom2', 'mom3', 'mom4', 'mom5', 'volatility',\n",
    "    'autocorr_1', 'autocorr_2', 'autocorr_3', 'autocorr_4', 'autocorr_5',\n",
    "    'log_t1', 'log_t2', 'log_t3', 'log_t4', 'log_t5', 'b_OBV', 'b_AD', 'b_ADOSC',\n",
    "    'b_MA5', 'b_MA20', 'b_MA60', 'b_bias5', 'b_bias10', 'b_bias20', 'b_bias60',\n",
    "    'b_acc5', 'b_acc10', 'b_acc20', 'b_acc60', 'b_volatility', 'out']\n",
    "    \n",
    "data = training_data[col_list]\n",
    "train_data = data.iloc[:int(training_data.shape[0]*.7),:]\n",
    "print(train_data.shape)\n",
    "test_data = data.iloc[int(training_data.shape[0]*.7):,:]\n",
    "print(test_data.shape)"
   ]
  },
  {
   "cell_type": "code",
   "execution_count": 29,
   "metadata": {},
   "outputs": [
    {
     "name": "stdout",
     "output_type": "stream",
     "text": [
      "before\n",
      " 0    11225\n",
      "1     9934\n",
      "Name: out, dtype: int64\n",
      "after\n",
      " 1    11225\n",
      "0    11225\n",
      "Name: out, dtype: int64\n"
     ]
    }
   ],
   "source": [
    "def Upsample(df):\n",
    "    # Separate majority and minority classes\n",
    "    shape_0 = df[df.out==0].shape[0]\n",
    "    shape_1 = df[df.out==1].shape[0]\n",
    "    if shape_0 > shape_1:\n",
    "        df_majority = df[df.out==0]\n",
    "        df_minority = df[df.out==1]\n",
    "    else:\n",
    "        df_majority = df[df.out==1]\n",
    "        df_minority = df[df.out==0]   \n",
    "    \n",
    "    # Upsample minority class\n",
    "    df_minority_upsampled = resample(df_minority, \n",
    "                                    replace=True,     # sample with replacement\n",
    "                                    n_samples=df.out.value_counts()[0],    # to match majority class\n",
    "                                    random_state=123) # reproducible results\n",
    "    \n",
    "    # Combine majority class with upsampled minority class\n",
    "    df_upsampled = pd.concat([df_majority, df_minority_upsampled])\n",
    "    \n",
    "    # Display new class counts\n",
    "    print(f'before\\n {df.out.value_counts()}')\n",
    "    print(f'after\\n {df_upsampled.out.value_counts()}')\n",
    "    return df_upsampled\n",
    "\n",
    "train_data_up = Upsample(train_data)\n",
    "# test_data_up = Upsample(test_data)\n",
    "# train_data_up = train_data_up.sample(frac=0.9, replace=True, random_state=1)\n",
    "\n",
    "X = train_data_up.iloc[:,1:-1]\n",
    "y = train_data_up.iloc[:,-1]\n",
    "X_test = test_data.iloc[:,1:-1]\n",
    "y_test = test_data.iloc[:,-1]"
   ]
  },
  {
   "cell_type": "code",
   "execution_count": 30,
   "metadata": {},
   "outputs": [
    {
     "data": {
      "text/html": [
       "<div>\n",
       "<style scoped>\n",
       "    .dataframe tbody tr th:only-of-type {\n",
       "        vertical-align: middle;\n",
       "    }\n",
       "\n",
       "    .dataframe tbody tr th {\n",
       "        vertical-align: top;\n",
       "    }\n",
       "\n",
       "    .dataframe thead th {\n",
       "        text-align: right;\n",
       "    }\n",
       "</style>\n",
       "<table border=\"1\" class=\"dataframe\">\n",
       "  <thead>\n",
       "    <tr style=\"text-align: right;\">\n",
       "      <th></th>\n",
       "      <th>com_rev</th>\n",
       "      <th>d_yield</th>\n",
       "      <th>pb</th>\n",
       "      <th>AD</th>\n",
       "      <th>OBV</th>\n",
       "      <th>ADOSC</th>\n",
       "      <th>bias5</th>\n",
       "      <th>bias10</th>\n",
       "      <th>bias20</th>\n",
       "      <th>bias60</th>\n",
       "      <th>...</th>\n",
       "      <th>b_MA60</th>\n",
       "      <th>b_bias5</th>\n",
       "      <th>b_bias10</th>\n",
       "      <th>b_bias20</th>\n",
       "      <th>b_bias60</th>\n",
       "      <th>b_acc5</th>\n",
       "      <th>b_acc10</th>\n",
       "      <th>b_acc20</th>\n",
       "      <th>b_acc60</th>\n",
       "      <th>b_volatility</th>\n",
       "    </tr>\n",
       "  </thead>\n",
       "  <tbody>\n",
       "    <tr>\n",
       "      <th>316507</th>\n",
       "      <td>0.390791</td>\n",
       "      <td>0.062762</td>\n",
       "      <td>0.324176</td>\n",
       "      <td>0.859415</td>\n",
       "      <td>0.146714</td>\n",
       "      <td>0.070595</td>\n",
       "      <td>0.668343</td>\n",
       "      <td>0.569549</td>\n",
       "      <td>0.553481</td>\n",
       "      <td>0.652075</td>\n",
       "      <td>...</td>\n",
       "      <td>0.0</td>\n",
       "      <td>0.568061</td>\n",
       "      <td>0.534916</td>\n",
       "      <td>0.454489</td>\n",
       "      <td>0.531943</td>\n",
       "      <td>0.405981</td>\n",
       "      <td>0.57264</td>\n",
       "      <td>0.543531</td>\n",
       "      <td>0.350727</td>\n",
       "      <td>0.282616</td>\n",
       "    </tr>\n",
       "    <tr>\n",
       "      <th>46199</th>\n",
       "      <td>0.442620</td>\n",
       "      <td>0.133540</td>\n",
       "      <td>0.583333</td>\n",
       "      <td>0.998408</td>\n",
       "      <td>0.195284</td>\n",
       "      <td>0.385295</td>\n",
       "      <td>0.588671</td>\n",
       "      <td>0.680647</td>\n",
       "      <td>0.636674</td>\n",
       "      <td>0.562462</td>\n",
       "      <td>...</td>\n",
       "      <td>0.0</td>\n",
       "      <td>0.568061</td>\n",
       "      <td>0.534916</td>\n",
       "      <td>0.454489</td>\n",
       "      <td>0.531943</td>\n",
       "      <td>0.405981</td>\n",
       "      <td>0.57264</td>\n",
       "      <td>0.543531</td>\n",
       "      <td>0.350727</td>\n",
       "      <td>0.282616</td>\n",
       "    </tr>\n",
       "    <tr>\n",
       "      <th>42075</th>\n",
       "      <td>0.306868</td>\n",
       "      <td>0.843267</td>\n",
       "      <td>0.319372</td>\n",
       "      <td>0.501928</td>\n",
       "      <td>0.055990</td>\n",
       "      <td>0.443757</td>\n",
       "      <td>0.546447</td>\n",
       "      <td>0.573085</td>\n",
       "      <td>0.473176</td>\n",
       "      <td>0.296124</td>\n",
       "      <td>...</td>\n",
       "      <td>0.0</td>\n",
       "      <td>0.568061</td>\n",
       "      <td>0.534916</td>\n",
       "      <td>0.454489</td>\n",
       "      <td>0.531943</td>\n",
       "      <td>0.405981</td>\n",
       "      <td>0.57264</td>\n",
       "      <td>0.543531</td>\n",
       "      <td>0.350727</td>\n",
       "      <td>0.282616</td>\n",
       "    </tr>\n",
       "    <tr>\n",
       "      <th>333863</th>\n",
       "      <td>0.160479</td>\n",
       "      <td>0.189831</td>\n",
       "      <td>0.984925</td>\n",
       "      <td>1.000000</td>\n",
       "      <td>0.098928</td>\n",
       "      <td>0.752947</td>\n",
       "      <td>0.699263</td>\n",
       "      <td>0.729912</td>\n",
       "      <td>0.720549</td>\n",
       "      <td>0.838355</td>\n",
       "      <td>...</td>\n",
       "      <td>0.0</td>\n",
       "      <td>0.568061</td>\n",
       "      <td>0.534916</td>\n",
       "      <td>0.454489</td>\n",
       "      <td>0.531943</td>\n",
       "      <td>0.405981</td>\n",
       "      <td>0.57264</td>\n",
       "      <td>0.543531</td>\n",
       "      <td>0.350727</td>\n",
       "      <td>0.282616</td>\n",
       "    </tr>\n",
       "    <tr>\n",
       "      <th>329757</th>\n",
       "      <td>0.338600</td>\n",
       "      <td>0.082192</td>\n",
       "      <td>0.775956</td>\n",
       "      <td>1.000000</td>\n",
       "      <td>0.000000</td>\n",
       "      <td>0.569518</td>\n",
       "      <td>0.882679</td>\n",
       "      <td>0.833408</td>\n",
       "      <td>0.800472</td>\n",
       "      <td>0.814976</td>\n",
       "      <td>...</td>\n",
       "      <td>0.0</td>\n",
       "      <td>0.568061</td>\n",
       "      <td>0.534916</td>\n",
       "      <td>0.454489</td>\n",
       "      <td>0.531943</td>\n",
       "      <td>0.405981</td>\n",
       "      <td>0.57264</td>\n",
       "      <td>0.543531</td>\n",
       "      <td>0.350727</td>\n",
       "      <td>0.282616</td>\n",
       "    </tr>\n",
       "  </tbody>\n",
       "</table>\n",
       "<p>5 rows × 47 columns</p>\n",
       "</div>"
      ],
      "text/plain": [
       "         com_rev   d_yield        pb        AD       OBV     ADOSC     bias5  \\\n",
       "316507  0.390791  0.062762  0.324176  0.859415  0.146714  0.070595  0.668343   \n",
       "46199   0.442620  0.133540  0.583333  0.998408  0.195284  0.385295  0.588671   \n",
       "42075   0.306868  0.843267  0.319372  0.501928  0.055990  0.443757  0.546447   \n",
       "333863  0.160479  0.189831  0.984925  1.000000  0.098928  0.752947  0.699263   \n",
       "329757  0.338600  0.082192  0.775956  1.000000  0.000000  0.569518  0.882679   \n",
       "\n",
       "          bias10    bias20    bias60  ...  b_MA60   b_bias5  b_bias10  \\\n",
       "316507  0.569549  0.553481  0.652075  ...     0.0  0.568061  0.534916   \n",
       "46199   0.680647  0.636674  0.562462  ...     0.0  0.568061  0.534916   \n",
       "42075   0.573085  0.473176  0.296124  ...     0.0  0.568061  0.534916   \n",
       "333863  0.729912  0.720549  0.838355  ...     0.0  0.568061  0.534916   \n",
       "329757  0.833408  0.800472  0.814976  ...     0.0  0.568061  0.534916   \n",
       "\n",
       "        b_bias20  b_bias60    b_acc5  b_acc10   b_acc20   b_acc60  \\\n",
       "316507  0.454489  0.531943  0.405981  0.57264  0.543531  0.350727   \n",
       "46199   0.454489  0.531943  0.405981  0.57264  0.543531  0.350727   \n",
       "42075   0.454489  0.531943  0.405981  0.57264  0.543531  0.350727   \n",
       "333863  0.454489  0.531943  0.405981  0.57264  0.543531  0.350727   \n",
       "329757  0.454489  0.531943  0.405981  0.57264  0.543531  0.350727   \n",
       "\n",
       "        b_volatility  \n",
       "316507      0.282616  \n",
       "46199       0.282616  \n",
       "42075       0.282616  \n",
       "333863      0.282616  \n",
       "329757      0.282616  \n",
       "\n",
       "[5 rows x 47 columns]"
      ]
     },
     "execution_count": 30,
     "metadata": {},
     "output_type": "execute_result"
    }
   ],
   "source": [
    "X.head()"
   ]
  },
  {
   "cell_type": "code",
   "execution_count": 36,
   "metadata": {},
   "outputs": [
    {
     "data": {
      "image/png": "[encoded data removed]",
      "text/plain": [
       "<Figure size 432x288 with 1 Axes>"
      ]
     },
     "metadata": {
      "needs_background": "light"
     },
     "output_type": "display_data"
    }
   ],
   "source": [
    "# digits = load_digits()\n",
    "# X, y = digits.data, digits.target\n",
    "\n",
    "\n",
    "title = \"Learning Curves\"\n",
    "# Cross validation with 100 iterations to get smoother mean test and train\n",
    "# score curves, each time with 20% data randomly selected as a validation set.\n",
    "cv = ShuffleSplit(n_splits=10, test_size=0.2, random_state=0)\n",
    "\n",
    "# estimator = BernoulliNB()\n",
    "estimator = lgb.LGBMClassifier(objective = 'binary', \n",
    "                                learning_rate = 0.05, \n",
    "                                n_estimators = 500, \n",
    "                                random_state=0)\n",
    "plot_learning_curve(estimator, title, X, y, ylim=(0.1, 1.01), cv=cv, n_jobs=4)\n",
    "\n",
    "# title = \"Learning Curves (ExtraTreesClassifier)\"\n",
    "# # SVC is more expensive so we do a lower number of CV iterations:\n",
    "# cv = ShuffleSplit(n_splits=10, test_size=0.2, random_state=0)\n",
    "# estimator = RandomForestClassifier(max_depth=15, random_state=0, n_estimators=500, bootstrap=True)\n",
    "# estimator = ExtraTreesClassifier(\n",
    "#     n_estimators=100, criterion=\"entropy\", random_state=0, class_weight='balanced',\n",
    "#     warm_start=True, bootstrap=True\n",
    "#     )\n",
    "# # plot_learning_curve(estimator, title, X, y, ylim=None, cv=5,\n",
    "# #                         n_jobs=4, train_sizes=np.linspace(.1, 1.0, 5))\n",
    "# plot_learning_curve(estimator, title, X, y, (0.1, 1.01), cv=cv, n_jobs=4)\n",
    "\n",
    "plt.show()"
   ]
  },
  {
   "cell_type": "code",
   "execution_count": 37,
   "metadata": {},
   "outputs": [
    {
     "data": {
      "text/plain": [
       "LGBMClassifier(boosting_type='gbdt', class_weight=None, colsample_bytree=1.0,\n",
       "               importance_type='split', learning_rate=0.05, max_depth=-1,\n",
       "               min_child_samples=20, min_child_weight=0.001, min_split_gain=0.0,\n",
       "               n_estimators=3000, n_jobs=-1, num_leaves=31, objective='binary',\n",
       "               random_state=47, reg_alpha=0.0, reg_lambda=0.0, silent=True,\n",
       "               subsample=1.0, subsample_for_bin=200000, subsample_freq=0)"
      ]
     },
     "execution_count": 37,
     "metadata": {},
     "output_type": "execute_result"
    }
   ],
   "source": [
    "# ex_clf = ExtraTreesClassifier(\n",
    "#     n_estimators=1000, criterion=\"entropy\", random_state=0, class_weight='balanced',\n",
    "#     warm_start=True, bootstrap=True\n",
    "#     )\n",
    "# ex_clf = RandomForestClassifier(max_depth=15, random_state=42, n_estimators=500, bootstrap=True)\n",
    "# ex_clf.fit(X, y)\n",
    "ex_clf = lgb.LGBMClassifier(objective = 'binary', \n",
    "                                learning_rate = 0.05, \n",
    "                                n_estimators = 3000, \n",
    "                                random_state=47)\n",
    "# ex_clf = BernoulliNB()\n",
    "ex_clf.fit(X, y)"
   ]
  },
  {
   "cell_type": "code",
   "execution_count": 38,
   "metadata": {},
   "outputs": [
    {
     "name": "stdout",
     "output_type": "stream",
     "text": [
      "Accuracy: 62.21%\n"
     ]
    }
   ],
   "source": [
    "model = ex_clf\n",
    "# make predictions for test data\n",
    "y_pred = model.predict(X_test)\n",
    "predictions = [round(value) for value in y_pred]\n",
    "\n",
    "# evaluate predictions\n",
    "accuracy = accuracy_score(y_test, predictions)\n",
    "print(\"Accuracy: %.2f%%\" % (accuracy * 100.0))"
   ]
  },
  {
   "cell_type": "code",
   "execution_count": 39,
   "metadata": {},
   "outputs": [
    {
     "name": "stdout",
     "output_type": "stream",
     "text": [
      "              precision    recall  f1-score   support\n",
      "\n",
      "           0       0.62      0.93      0.74      5296\n",
      "           1       0.65      0.20      0.30      3773\n",
      "\n",
      "    accuracy                           0.62      9069\n",
      "   macro avg       0.64      0.56      0.52      9069\n",
      "weighted avg       0.63      0.62      0.56      9069\n",
      "\n",
      "Confusion Matrix\n",
      "[[4906  390]\n",
      " [3037  736]]\n",
      "\n",
      "Accuracy\n",
      "0.6221193075311501\n"
     ]
    },
    {
     "data": {
      "image/png": "[encoded data removed]",
      "text/plain": [
       "<Figure size 432x288 with 1 Axes>"
      ]
     },
     "metadata": {
      "needs_background": "light"
     },
     "output_type": "display_data"
    }
   ],
   "source": [
    "y_pred_rf = model.predict_proba(X_test)[:, 1]\n",
    "y_pred = model.predict(X_test)\n",
    "fpr_rf, tpr_rf, _ = roc_curve(y_test, y_pred_rf)\n",
    "print(classification_report(y_test, y_pred))\n",
    "\n",
    "print(\"Confusion Matrix\")\n",
    "print(confusion_matrix(y_test, y_pred))\n",
    "\n",
    "print('')\n",
    "print(\"Accuracy\")\n",
    "print(accuracy_score(y_test, y_pred))\n",
    "\n",
    "plt.figure(1)\n",
    "plt.plot([0, 1], [0, 1], 'k--')\n",
    "plt.plot(fpr_rf, tpr_rf, label='RF')\n",
    "plt.xlabel('False positive rate')\n",
    "plt.ylabel('True positive rate')\n",
    "plt.title('ROC curve')\n",
    "plt.legend(loc='best')\n",
    "plt.show()"
   ]
  },
  {
   "cell_type": "code",
   "execution_count": 40,
   "metadata": {},
   "outputs": [
    {
     "data": {
      "image/png": "[encoded data removed]",
      "text/plain": [
       "<Figure size 1080x720 with 1 Axes>"
      ]
     },
     "metadata": {
      "needs_background": "light"
     },
     "output_type": "display_data"
    }
   ],
   "source": [
    "# Feature Importance\n",
    "title = 'Feature Importance:'\n",
    "figsize = (15, 10)\n",
    "\n",
    "feat_imp = pd.DataFrame({'Importance':model.feature_importances_})    \n",
    "feat_imp['feature'] = X.columns\n",
    "feat_imp.sort_values(by='Importance', ascending=False, inplace=True)\n",
    "feat_imp = feat_imp\n",
    "\n",
    "feat_imp.sort_values(by='Importance', inplace=True)\n",
    "feat_imp = feat_imp.set_index('feature', drop=True)\n",
    "feat_imp.plot.barh(title=title, figsize=figsize)\n",
    "plt.xlabel('Feature Importance Score')\n",
    "plt.show()"
   ]
  },
  {
   "cell_type": "code",
   "execution_count": 41,
   "metadata": {},
   "outputs": [
    {
     "data": {
      "text/plain": [
       "['lazypredict/trend_long_LGBM_0419.pkl']"
      ]
     },
     "execution_count": 41,
     "metadata": {},
     "output_type": "execute_result"
    }
   ],
   "source": [
    "joblib.dump(model,'lazypredict/trend_long_LGBM_0419.pkl')"
   ]
  },
  {
   "cell_type": "code",
   "execution_count": null,
   "metadata": {},
   "outputs": [],
   "source": []
  },
  {
   "cell_type": "code",
   "execution_count": null,
   "metadata": {},
   "outputs": [],
   "source": []
  }
 ],
 "metadata": {
  "interpreter": {
   "hash": "dcab5abc01785e70b3d83a3d5bdbcfc50b734e2ce4fb9a60cd0f51c7553360e3"
  },
  "kernelspec": {
   "display_name": "Python 3.7.10 ('finlab')",
   "language": "python",
   "name": "python3"
  },
  "language_info": {
   "codemirror_mode": {
    "name": "ipython",
    "version": 3
   },
   "file_extension": ".py",
   "mimetype": "text/x-python",
   "name": "python",
   "nbconvert_exporter": "python",
   "pygments_lexer": "ipython3",
   "version": "3.7.10"
  },
  "orig_nbformat": 4
 },
 "nbformat": 4,
 "nbformat_minor": 2
}
