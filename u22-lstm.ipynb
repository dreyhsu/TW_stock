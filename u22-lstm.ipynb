{
 "cells": [
  {
   "cell_type": "markdown",
   "metadata": {},
   "source": [
    "# 神經網路實做"
   ]
  },
  {
   "cell_type": "markdown",
   "metadata": {},
   "source": [
    "## 拿取加權指數資料"
   ]
  },
  {
   "cell_type": "code",
   "execution_count": 1,
   "metadata": {},
   "outputs": [
    {
     "data": {
      "text/plain": [
       "date\n",
       "2006-01-02 09:00:00    6548.34\n",
       "2006-01-02 09:15:00    6478.09\n",
       "2006-01-02 09:30:00    6474.88\n",
       "2006-01-02 09:45:00    6471.12\n",
       "2006-01-02 10:00:00    6480.50\n",
       "Name: 台股指數, dtype: float64"
      ]
     },
     "execution_count": 1,
     "metadata": {},
     "output_type": "execute_result"
    }
   ],
   "source": [
    "from finlab.data import Data\n",
    "\n",
    "data = Data()\n",
    "twii = data.get(\"發行量加權股價指數\")\n",
    "\n",
    "twii = twii['台股指數'].resample(\"15T\").first().dropna()\n",
    "twii.head()"
   ]
  },
  {
   "cell_type": "markdown",
   "metadata": {},
   "source": [
    "## 製作features"
   ]
  },
  {
   "cell_type": "code",
   "execution_count": 2,
   "metadata": {},
   "outputs": [],
   "source": [
    "import talib\n",
    "import numpy as np\n",
    "import pandas as pd\n",
    "\n",
    "sma = talib.SMA(twii, timeperiod=120)\n",
    "wma = talib.WMA(twii, timeperiod=120)\n",
    "mom = talib.MOM(twii, timeperiod=120)\n",
    "k, d = talib.STOCH  (twii, twii, twii, fastk_period=120, slowk_period=60, slowd_period=60)\n",
    "k2, d2 = talib.STOCH(twii, twii, twii, fastk_period=240, slowk_period=120, slowd_period=120)\n",
    "k3, d3 = talib.STOCH(twii, twii, twii, fastk_period=360, slowk_period=180, slowd_period=180)\n",
    "k4, d4 = talib.STOCH(twii, twii, twii, fastk_period=480, slowk_period=240, slowd_period=240)\n",
    "k5, d5 = talib.STOCH(twii, twii, twii, fastk_period=640, slowk_period=320, slowd_period=320)\n",
    "k6, d6 = talib.STOCH(twii, twii, twii, fastk_period=720, slowk_period=360, slowd_period=360)\n",
    "k7, d7 = talib.STOCH(twii, twii, twii, fastk_period=840, slowk_period=420, slowd_period=420)\n",
    "k8, d8 = talib.STOCH(twii, twii, twii, fastk_period=960, slowk_period=480, slowd_period=480)\n",
    "\n",
    "rsi = talib.RSI (twii, timeperiod=120)\n",
    "rsi2 = talib.RSI(twii, timeperiod=240)\n",
    "rsi3 = talib.RSI(twii, timeperiod=480)\n",
    "rsi4 = talib.RSI(twii, timeperiod=640)\n",
    "rsi5 = talib.RSI(twii, timeperiod=720)\n",
    "rsi6 = talib.RSI(twii, timeperiod=840)\n",
    "\n",
    "macd1, macd2, macd3 = talib.MACD(twii, fastperiod=120, slowperiod=60, signalperiod=60)\n",
    "willr = talib.WILLR(twii, twii, twii, timeperiod=120)\n",
    "cci = talib.CCI(twii, twii, twii, timeperiod=120)\n",
    "\n",
    "dataset = pd.DataFrame({\n",
    "    'RSIb': rsi / 50,\n",
    "    'RSIb2': rsi2 / 50,\n",
    "    'RSIb3': rsi3 / 50,\n",
    "    'RSIb4': rsi4 / 50,\n",
    "    'RSIb5': rsi5 / 50,\n",
    "    'RSIb6': rsi6 / 50,\n",
    "    'MOMb': mom - 0,\n",
    "    'KDb': k - d,\n",
    "    'KDb2': k2 - d2,\n",
    "    'KDb3': k3 - d3,\n",
    "    'KDb4': k4 - d4,\n",
    "    'KDb5': k5 - d5,\n",
    "    'KDb6': k6 - d6,\n",
    "    'KDb7': k7 - d7,\n",
    "    'KDb8': k8 - d8,\n",
    "    \n",
    "    'a5':   (twii.rolling(5).mean()   / twii),\n",
    "    'a10':  (twii.rolling(10).mean()  / twii),\n",
    "    'a20':  (twii.rolling(20).mean()  / twii),\n",
    "    'a40':  (twii.rolling(40).mean()  / twii),\n",
    "    'a80':  (twii.rolling(80).mean()  / twii),\n",
    "    'a160': (twii.rolling(160).mean() / twii),\n",
    "    'a320': (twii.rolling(320).mean() / twii),\n",
    "    'a640': (twii.rolling(640).mean() / twii),\n",
    "    'a720': (twii.rolling(720).mean() / twii),\n",
    "    'a840': (twii.rolling(840).mean() / twii),\n",
    "    'a960': (twii.rolling(960).mean() / twii),\n",
    "    'a1024':(twii.rolling(1024).mean() / twii),\n",
    "    'b1': twii/twii.shift(50),\n",
    "    'b2': twii/twii.shift(100),\n",
    "    'b3': twii/twii.shift(150),\n",
    "    'b4': twii/twii.shift(200),\n",
    "    'b5': twii/twii.shift(250),\n",
    "    'b6': twii/twii.shift(300),\n",
    "    'b7': twii/twii.shift(350),\n",
    "    'LINEARREG_SLOPE0': talib.LINEARREG_SLOPE(twii, 60),\n",
    "    'LINEARREG_SLOPE1': talib.LINEARREG_SLOPE(twii, 120),\n",
    "\n",
    "    'ADXR0': talib.ADXR(twii, twii, twii, 60),\n",
    "    'ADXR1': talib.ADXR(twii, twii, twii, 120),\n",
    "    'ADXR2': talib.ADXR(twii, twii, twii, 240),\n",
    "    'ADXR3': talib.ADXR(twii, twii, twii, 360),\n",
    "    'ADXR4': talib.ADXR(twii, twii, twii, 480),\n",
    "    'ADXR5': talib.ADXR(twii, twii, twii, 640),\n",
    "\n",
    "    'return': twii.shift(-10) / twii,\n",
    "})\n",
    "\n",
    "feature_names = list(dataset.columns[:-1])"
   ]
  },
  {
   "cell_type": "markdown",
   "metadata": {},
   "source": [
    "## 簡單處理一下"
   ]
  },
  {
   "cell_type": "code",
   "execution_count": 3,
   "metadata": {},
   "outputs": [
    {
     "name": "stdout",
     "output_type": "stream",
     "text": [
      "before dropping NaN (68571, 43)\n",
      "after dropping NaN (66643, 43)\n"
     ]
    }
   ],
   "source": [
    "print(\"before dropping NaN\", dataset.shape)\n",
    "dataset = dataset.dropna()\n",
    "print(\"after dropping NaN\", dataset.shape)\n"
   ]
  },
  {
   "cell_type": "code",
   "execution_count": 4,
   "metadata": {},
   "outputs": [
    {
     "name": "stderr",
     "output_type": "stream",
     "text": [
      "/Users/cheng-yuhan/miniconda3/envs/finlab/lib/python3.6/site-packages/lightgbm/__init__.py:46: UserWarning: Starting from version 2.2.1, the library file in distribution wheels for macOS is built by the Apple Clang (Xcode_9.4.1) compiler.\n",
      "This means that in case of installing LightGBM from PyPI via the ``pip install lightgbm`` command, you don't need to install the gcc compiler anymore.\n",
      "Instead of that, you need to install the OpenMP library, which is required for running LightGBM on the system with the Apple Clang compiler.\n",
      "You can install the OpenMP library by the following command: ``brew install libomp``.\n",
      "  \"You can install the OpenMP library by the following command: ``brew install libomp``.\", UserWarning)\n"
     ]
    },
    {
     "data": {
      "text/plain": [
       "LGBMClassifier(boosting_type='gbdt', class_weight=None, colsample_bytree=1.0,\n",
       "               importance_type='split', learning_rate=0.01, max_depth=-1,\n",
       "               min_child_samples=20, min_child_weight=0.001, min_split_gain=0.0,\n",
       "               n_estimators=100, n_jobs=-1, num_leaves=31, objective=None,\n",
       "               random_state=5, reg_alpha=0.0, reg_lambda=0.0, silent=True,\n",
       "               subsample=1.0, subsample_for_bin=200000, subsample_freq=0)"
      ]
     },
     "execution_count": 4,
     "metadata": {},
     "output_type": "execute_result"
    }
   ],
   "source": [
    "import lightgbm as lgb\n",
    "dataset_train = dataset[:'2015']\n",
    "\n",
    "gbm = lgb.LGBMClassifier(n_estimators=100, random_state=5, learning_rate=0.01)\n",
    "\n",
    "gbm.fit(dataset_train[feature_names], dataset_train['return'] > 1)\n"
   ]
  },
  {
   "cell_type": "markdown",
   "metadata": {},
   "source": [
    "## 神經網路Preprocessing"
   ]
  },
  {
   "cell_type": "code",
   "execution_count": 5,
   "metadata": {},
   "outputs": [
    {
     "data": {
      "text/html": [
       "<div>\n",
       "<style scoped>\n",
       "    .dataframe tbody tr th:only-of-type {\n",
       "        vertical-align: middle;\n",
       "    }\n",
       "\n",
       "    .dataframe tbody tr th {\n",
       "        vertical-align: top;\n",
       "    }\n",
       "\n",
       "    .dataframe thead th {\n",
       "        text-align: right;\n",
       "    }\n",
       "</style>\n",
       "<table border=\"1\" class=\"dataframe\">\n",
       "  <thead>\n",
       "    <tr style=\"text-align: right;\">\n",
       "      <th></th>\n",
       "      <th>RSIb</th>\n",
       "      <th>RSIb2</th>\n",
       "      <th>RSIb3</th>\n",
       "      <th>RSIb4</th>\n",
       "      <th>RSIb5</th>\n",
       "      <th>RSIb6</th>\n",
       "      <th>MOMb</th>\n",
       "      <th>KDb</th>\n",
       "      <th>KDb2</th>\n",
       "      <th>KDb3</th>\n",
       "      <th>...</th>\n",
       "      <th>b7</th>\n",
       "      <th>LINEARREG_SLOPE0</th>\n",
       "      <th>LINEARREG_SLOPE1</th>\n",
       "      <th>ADXR0</th>\n",
       "      <th>ADXR1</th>\n",
       "      <th>ADXR2</th>\n",
       "      <th>ADXR3</th>\n",
       "      <th>ADXR4</th>\n",
       "      <th>ADXR5</th>\n",
       "      <th>return</th>\n",
       "    </tr>\n",
       "  </thead>\n",
       "  <tbody>\n",
       "    <tr>\n",
       "      <th>count</th>\n",
       "      <td>6.664300e+04</td>\n",
       "      <td>6.664300e+04</td>\n",
       "      <td>6.664300e+04</td>\n",
       "      <td>6.664300e+04</td>\n",
       "      <td>6.664300e+04</td>\n",
       "      <td>6.664300e+04</td>\n",
       "      <td>6.664300e+04</td>\n",
       "      <td>6.664300e+04</td>\n",
       "      <td>6.664300e+04</td>\n",
       "      <td>6.664300e+04</td>\n",
       "      <td>...</td>\n",
       "      <td>6.664300e+04</td>\n",
       "      <td>6.664300e+04</td>\n",
       "      <td>6.664300e+04</td>\n",
       "      <td>6.664300e+04</td>\n",
       "      <td>6.664300e+04</td>\n",
       "      <td>6.664300e+04</td>\n",
       "      <td>6.664300e+04</td>\n",
       "      <td>6.664300e+04</td>\n",
       "      <td>6.664300e+04</td>\n",
       "      <td>66643.000000</td>\n",
       "    </tr>\n",
       "    <tr>\n",
       "      <th>mean</th>\n",
       "      <td>1.277436e-16</td>\n",
       "      <td>8.332345e-16</td>\n",
       "      <td>-2.081218e-15</td>\n",
       "      <td>-1.611833e-15</td>\n",
       "      <td>-2.947419e-15</td>\n",
       "      <td>-5.157700e-15</td>\n",
       "      <td>1.858240e-16</td>\n",
       "      <td>1.690582e-17</td>\n",
       "      <td>-1.654514e-17</td>\n",
       "      <td>-6.899859e-17</td>\n",
       "      <td>...</td>\n",
       "      <td>-1.922648e-15</td>\n",
       "      <td>1.023120e-16</td>\n",
       "      <td>-5.324299e-18</td>\n",
       "      <td>3.941181e-16</td>\n",
       "      <td>1.288860e-16</td>\n",
       "      <td>4.209662e-16</td>\n",
       "      <td>-7.934405e-16</td>\n",
       "      <td>-2.607174e-16</td>\n",
       "      <td>-1.976255e-16</td>\n",
       "      <td>1.000132</td>\n",
       "    </tr>\n",
       "    <tr>\n",
       "      <th>std</th>\n",
       "      <td>1.000008e+00</td>\n",
       "      <td>1.000008e+00</td>\n",
       "      <td>1.000008e+00</td>\n",
       "      <td>1.000008e+00</td>\n",
       "      <td>1.000008e+00</td>\n",
       "      <td>1.000008e+00</td>\n",
       "      <td>1.000008e+00</td>\n",
       "      <td>1.000008e+00</td>\n",
       "      <td>1.000008e+00</td>\n",
       "      <td>1.000008e+00</td>\n",
       "      <td>...</td>\n",
       "      <td>1.000008e+00</td>\n",
       "      <td>1.000008e+00</td>\n",
       "      <td>1.000008e+00</td>\n",
       "      <td>1.000008e+00</td>\n",
       "      <td>1.000008e+00</td>\n",
       "      <td>1.000008e+00</td>\n",
       "      <td>1.000008e+00</td>\n",
       "      <td>1.000008e+00</td>\n",
       "      <td>1.000008e+00</td>\n",
       "      <td>0.008313</td>\n",
       "    </tr>\n",
       "    <tr>\n",
       "      <th>min</th>\n",
       "      <td>-4.430411e+00</td>\n",
       "      <td>-4.584212e+00</td>\n",
       "      <td>-4.891165e+00</td>\n",
       "      <td>-4.902955e+00</td>\n",
       "      <td>-4.882525e+00</td>\n",
       "      <td>-4.831511e+00</td>\n",
       "      <td>-1.022378e+01</td>\n",
       "      <td>-2.588044e+00</td>\n",
       "      <td>-2.684641e+00</td>\n",
       "      <td>-2.657653e+00</td>\n",
       "      <td>...</td>\n",
       "      <td>-5.440028e+00</td>\n",
       "      <td>-8.635787e+00</td>\n",
       "      <td>-7.818834e+00</td>\n",
       "      <td>-2.110713e+00</td>\n",
       "      <td>-1.961033e+00</td>\n",
       "      <td>-1.733588e+00</td>\n",
       "      <td>-1.659141e+00</td>\n",
       "      <td>-1.791093e+00</td>\n",
       "      <td>-1.925458e+00</td>\n",
       "      <td>0.924507</td>\n",
       "    </tr>\n",
       "    <tr>\n",
       "      <th>25%</th>\n",
       "      <td>-6.886745e-01</td>\n",
       "      <td>-6.892701e-01</td>\n",
       "      <td>-6.742066e-01</td>\n",
       "      <td>-6.649846e-01</td>\n",
       "      <td>-6.616835e-01</td>\n",
       "      <td>-6.493217e-01</td>\n",
       "      <td>-4.804277e-01</td>\n",
       "      <td>-6.430756e-01</td>\n",
       "      <td>-6.503126e-01</td>\n",
       "      <td>-6.288562e-01</td>\n",
       "      <td>...</td>\n",
       "      <td>-5.137208e-01</td>\n",
       "      <td>-4.898317e-01</td>\n",
       "      <td>-4.929649e-01</td>\n",
       "      <td>-7.369820e-01</td>\n",
       "      <td>-7.037247e-01</td>\n",
       "      <td>-7.483212e-01</td>\n",
       "      <td>-7.014938e-01</td>\n",
       "      <td>-6.910563e-01</td>\n",
       "      <td>-7.063699e-01</td>\n",
       "      <td>0.997045</td>\n",
       "    </tr>\n",
       "    <tr>\n",
       "      <th>50%</th>\n",
       "      <td>9.244996e-02</td>\n",
       "      <td>1.214734e-01</td>\n",
       "      <td>1.210136e-01</td>\n",
       "      <td>1.254195e-01</td>\n",
       "      <td>1.321886e-01</td>\n",
       "      <td>1.405660e-01</td>\n",
       "      <td>1.045689e-01</td>\n",
       "      <td>-1.190962e-02</td>\n",
       "      <td>-2.868697e-02</td>\n",
       "      <td>-7.644799e-03</td>\n",
       "      <td>...</td>\n",
       "      <td>1.239997e-01</td>\n",
       "      <td>8.327921e-02</td>\n",
       "      <td>9.285898e-02</td>\n",
       "      <td>-1.615794e-01</td>\n",
       "      <td>-2.333086e-01</td>\n",
       "      <td>-2.557205e-01</td>\n",
       "      <td>-2.356834e-01</td>\n",
       "      <td>-2.091704e-01</td>\n",
       "      <td>-1.900612e-01</td>\n",
       "      <td>1.000267</td>\n",
       "    </tr>\n",
       "    <tr>\n",
       "      <th>75%</th>\n",
       "      <td>7.277285e-01</td>\n",
       "      <td>7.207806e-01</td>\n",
       "      <td>6.968363e-01</td>\n",
       "      <td>7.058210e-01</td>\n",
       "      <td>7.073666e-01</td>\n",
       "      <td>7.062299e-01</td>\n",
       "      <td>6.067779e-01</td>\n",
       "      <td>6.552202e-01</td>\n",
       "      <td>6.709389e-01</td>\n",
       "      <td>5.987108e-01</td>\n",
       "      <td>...</td>\n",
       "      <td>5.641709e-01</td>\n",
       "      <td>5.884410e-01</td>\n",
       "      <td>6.044658e-01</td>\n",
       "      <td>5.984458e-01</td>\n",
       "      <td>4.843849e-01</td>\n",
       "      <td>5.008526e-01</td>\n",
       "      <td>4.767138e-01</td>\n",
       "      <td>4.439972e-01</td>\n",
       "      <td>5.531497e-01</td>\n",
       "      <td>1.003655</td>\n",
       "    </tr>\n",
       "    <tr>\n",
       "      <th>max</th>\n",
       "      <td>2.890788e+00</td>\n",
       "      <td>2.840481e+00</td>\n",
       "      <td>2.911296e+00</td>\n",
       "      <td>2.921670e+00</td>\n",
       "      <td>2.915377e+00</td>\n",
       "      <td>2.899779e+00</td>\n",
       "      <td>4.839249e+00</td>\n",
       "      <td>2.729909e+00</td>\n",
       "      <td>2.591726e+00</td>\n",
       "      <td>2.549347e+00</td>\n",
       "      <td>...</td>\n",
       "      <td>4.823699e+00</td>\n",
       "      <td>5.431553e+00</td>\n",
       "      <td>4.561873e+00</td>\n",
       "      <td>4.554255e+00</td>\n",
       "      <td>4.173653e+00</td>\n",
       "      <td>3.976500e+00</td>\n",
       "      <td>3.519582e+00</td>\n",
       "      <td>3.539684e+00</td>\n",
       "      <td>3.567033e+00</td>\n",
       "      <td>1.087726</td>\n",
       "    </tr>\n",
       "  </tbody>\n",
       "</table>\n",
       "<p>8 rows × 43 columns</p>\n",
       "</div>"
      ],
      "text/plain": [
       "               RSIb         RSIb2         RSIb3         RSIb4         RSIb5  \\\n",
       "count  6.664300e+04  6.664300e+04  6.664300e+04  6.664300e+04  6.664300e+04   \n",
       "mean   1.277436e-16  8.332345e-16 -2.081218e-15 -1.611833e-15 -2.947419e-15   \n",
       "std    1.000008e+00  1.000008e+00  1.000008e+00  1.000008e+00  1.000008e+00   \n",
       "min   -4.430411e+00 -4.584212e+00 -4.891165e+00 -4.902955e+00 -4.882525e+00   \n",
       "25%   -6.886745e-01 -6.892701e-01 -6.742066e-01 -6.649846e-01 -6.616835e-01   \n",
       "50%    9.244996e-02  1.214734e-01  1.210136e-01  1.254195e-01  1.321886e-01   \n",
       "75%    7.277285e-01  7.207806e-01  6.968363e-01  7.058210e-01  7.073666e-01   \n",
       "max    2.890788e+00  2.840481e+00  2.911296e+00  2.921670e+00  2.915377e+00   \n",
       "\n",
       "              RSIb6          MOMb           KDb          KDb2          KDb3  \\\n",
       "count  6.664300e+04  6.664300e+04  6.664300e+04  6.664300e+04  6.664300e+04   \n",
       "mean  -5.157700e-15  1.858240e-16  1.690582e-17 -1.654514e-17 -6.899859e-17   \n",
       "std    1.000008e+00  1.000008e+00  1.000008e+00  1.000008e+00  1.000008e+00   \n",
       "min   -4.831511e+00 -1.022378e+01 -2.588044e+00 -2.684641e+00 -2.657653e+00   \n",
       "25%   -6.493217e-01 -4.804277e-01 -6.430756e-01 -6.503126e-01 -6.288562e-01   \n",
       "50%    1.405660e-01  1.045689e-01 -1.190962e-02 -2.868697e-02 -7.644799e-03   \n",
       "75%    7.062299e-01  6.067779e-01  6.552202e-01  6.709389e-01  5.987108e-01   \n",
       "max    2.899779e+00  4.839249e+00  2.729909e+00  2.591726e+00  2.549347e+00   \n",
       "\n",
       "       ...            b7  LINEARREG_SLOPE0  LINEARREG_SLOPE1         ADXR0  \\\n",
       "count  ...  6.664300e+04      6.664300e+04      6.664300e+04  6.664300e+04   \n",
       "mean   ... -1.922648e-15      1.023120e-16     -5.324299e-18  3.941181e-16   \n",
       "std    ...  1.000008e+00      1.000008e+00      1.000008e+00  1.000008e+00   \n",
       "min    ... -5.440028e+00     -8.635787e+00     -7.818834e+00 -2.110713e+00   \n",
       "25%    ... -5.137208e-01     -4.898317e-01     -4.929649e-01 -7.369820e-01   \n",
       "50%    ...  1.239997e-01      8.327921e-02      9.285898e-02 -1.615794e-01   \n",
       "75%    ...  5.641709e-01      5.884410e-01      6.044658e-01  5.984458e-01   \n",
       "max    ...  4.823699e+00      5.431553e+00      4.561873e+00  4.554255e+00   \n",
       "\n",
       "              ADXR1         ADXR2         ADXR3         ADXR4         ADXR5  \\\n",
       "count  6.664300e+04  6.664300e+04  6.664300e+04  6.664300e+04  6.664300e+04   \n",
       "mean   1.288860e-16  4.209662e-16 -7.934405e-16 -2.607174e-16 -1.976255e-16   \n",
       "std    1.000008e+00  1.000008e+00  1.000008e+00  1.000008e+00  1.000008e+00   \n",
       "min   -1.961033e+00 -1.733588e+00 -1.659141e+00 -1.791093e+00 -1.925458e+00   \n",
       "25%   -7.037247e-01 -7.483212e-01 -7.014938e-01 -6.910563e-01 -7.063699e-01   \n",
       "50%   -2.333086e-01 -2.557205e-01 -2.356834e-01 -2.091704e-01 -1.900612e-01   \n",
       "75%    4.843849e-01  5.008526e-01  4.767138e-01  4.439972e-01  5.531497e-01   \n",
       "max    4.173653e+00  3.976500e+00  3.519582e+00  3.539684e+00  3.567033e+00   \n",
       "\n",
       "             return  \n",
       "count  66643.000000  \n",
       "mean       1.000132  \n",
       "std        0.008313  \n",
       "min        0.924507  \n",
       "25%        0.997045  \n",
       "50%        1.000267  \n",
       "75%        1.003655  \n",
       "max        1.087726  \n",
       "\n",
       "[8 rows x 43 columns]"
      ]
     },
     "execution_count": 5,
     "metadata": {},
     "output_type": "execute_result"
    }
   ],
   "source": [
    "from sklearn.preprocessing import StandardScaler\n",
    "\n",
    "ss = StandardScaler()\n",
    "\n",
    "dataset_scaled = ss.fit_transform(dataset)\n",
    "dataset_scaled = pd.DataFrame(dataset_scaled, columns=dataset.columns, index=dataset.index)\n",
    "dataset_scaled['return'] = dataset['return']\n",
    "dataset_scaled.describe()"
   ]
  },
  {
   "cell_type": "code",
   "execution_count": 6,
   "metadata": {},
   "outputs": [
    {
     "name": "stderr",
     "output_type": "stream",
     "text": [
      "/Users/cheng-yuhan/miniconda3/envs/finlab/lib/python3.6/site-packages/ipykernel_launcher.py:10: TqdmDeprecationWarning: This function will be removed in tqdm==5.0.0\n",
      "Please use `tqdm.notebook.tqdm` instead of `tqdm.tqdm_notebook`\n",
      "  # Remove the CWD from sys.path while we load stuff.\n"
     ]
    },
    {
     "data": {
      "application/vnd.jupyter.widget-view+json": {
       "model_id": "dba3cb1435ef4dfca68b65d3fef7793f",
       "version_major": 2,
       "version_minor": 0
      },
      "text/plain": [
       "HBox(children=(FloatProgress(value=0.0, max=66640.0), HTML(value='')))"
      ]
     },
     "metadata": {},
     "output_type": "display_data"
    },
    {
     "name": "stdout",
     "output_type": "stream",
     "text": [
      "\n"
     ]
    }
   ],
   "source": [
    "import tqdm\n",
    "\n",
    "n = 3\n",
    "\n",
    "X = []\n",
    "y = []\n",
    "indexes = []\n",
    "dataset_scaled_x = dataset_scaled[feature_names]\n",
    "\n",
    "for i in tqdm.tqdm_notebook(range(0, len(dataset_scaled)-n)):\n",
    "    X.append(dataset_scaled_x.iloc[i:i+n].values)\n",
    "    y.append(dataset_scaled['return'].iloc[i+n-1])\n",
    "    indexes.append(dataset_scaled.index[i+n-1])\n",
    "#dataset_scaled.head()"
   ]
  },
  {
   "cell_type": "code",
   "execution_count": 7,
   "metadata": {},
   "outputs": [],
   "source": [
    "import numpy as np\n",
    "X = np.array(X)\n",
    "y = np.array(y)"
   ]
  },
  {
   "cell_type": "code",
   "execution_count": 8,
   "metadata": {},
   "outputs": [],
   "source": [
    "indexes = np.array(indexes)"
   ]
  },
  {
   "cell_type": "markdown",
   "metadata": {},
   "source": [
    "## 神經網路 Model"
   ]
  },
  {
   "cell_type": "code",
   "execution_count": null,
   "metadata": {
    "scrolled": true
   },
   "outputs": [],
   "source": [
    "import keras\n",
    "\n",
    "model = keras.models.Sequential()\n",
    "#model.add(keras.layers.Dense(100, activation=\"relu\", input_shape=(len(feature_names),)))\n",
    "model.add(keras.layers.LSTM(100, return_sequences=True, input_shape=X[0].shape))\n",
    "model.add(keras.layers.LSTM(100))\n",
    "model.add(keras.layers.Dense(8))\n",
    "model.add(keras.layers.Dense(1,kernel_initializer=\"uniform\",activation='linear'))\n",
    "\n",
    "adam = keras.optimizers.Adam(0.0006)\n",
    "\n",
    "model.compile(optimizer=adam, loss=\"binary_crossentropy\", metrics=['accuracy'])\n",
    "\n",
    "model.summary()"
   ]
  },
  {
   "cell_type": "markdown",
   "metadata": {},
   "source": [
    "## 神經網路訓練"
   ]
  },
  {
   "cell_type": "code",
   "execution_count": 10,
   "metadata": {
    "scrolled": true
   },
   "outputs": [
    {
     "name": "stderr",
     "output_type": "stream",
     "text": [
      "W1229 12:51:48.225897 4465829312 deprecation_wrapper.py:119] From /Users/cheng-yuhan/miniconda3/envs/finlab/lib/python3.6/site-packages/keras/backend/tensorflow_backend.py:986: The name tf.assign_add is deprecated. Please use tf.compat.v1.assign_add instead.\n",
      "\n"
     ]
    },
    {
     "name": "stdout",
     "output_type": "stream",
     "text": [
      "Train on 36175 samples, validate on 9044 samples\n",
      "Epoch 1/300\n",
      "36175/36175 [==============================] - 6s 178us/step - loss: 4.2905 - acc: 0.4798 - val_loss: 2.4428 - val_acc: 0.5036\n",
      "Epoch 2/300\n",
      "36175/36175 [==============================] - 3s 72us/step - loss: 2.3138 - acc: 0.4798 - val_loss: 2.0428 - val_acc: 0.5036\n",
      "Epoch 3/300\n",
      "36175/36175 [==============================] - 3s 93us/step - loss: 1.9934 - acc: 0.4798 - val_loss: 1.8770 - val_acc: 0.5036\n",
      "Epoch 4/300\n",
      "36175/36175 [==============================] - 3s 86us/step - loss: 1.8508 - acc: 0.4798 - val_loss: 1.7717 - val_acc: 0.5036\n",
      "Epoch 5/300\n",
      "36175/36175 [==============================] - 3s 89us/step - loss: 1.7485 - acc: 0.4798 - val_loss: 1.6867 - val_acc: 0.5036\n",
      "Epoch 6/300\n",
      "36175/36175 [==============================] - 3s 84us/step - loss: 1.6600 - acc: 0.4798 - val_loss: 1.6087 - val_acc: 0.5036\n",
      "Epoch 7/300\n",
      "36175/36175 [==============================] - 3s 83us/step - loss: 1.5749 - acc: 0.4798 - val_loss: 1.5323 - val_acc: 0.5036\n",
      "Epoch 8/300\n",
      "36175/36175 [==============================] - 3s 83us/step - loss: 1.4897 - acc: 0.4798 - val_loss: 1.4548 - val_acc: 0.5036\n",
      "Epoch 9/300\n",
      "36175/36175 [==============================] - 3s 90us/step - loss: 1.4028 - acc: 0.4798 - val_loss: 1.3747 - val_acc: 0.5036\n",
      "Epoch 10/300\n",
      "36175/36175 [==============================] - 3s 86us/step - loss: 1.3131 - acc: 0.4798 - val_loss: 1.2924 - val_acc: 0.5036\n",
      "Epoch 11/300\n",
      "36175/36175 [==============================] - 3s 91us/step - loss: 1.2222 - acc: 0.4798 - val_loss: 1.2084 - val_acc: 0.5036\n",
      "Epoch 12/300\n",
      "36175/36175 [==============================] - 4s 101us/step - loss: 1.1310 - acc: 0.4798 - val_loss: 1.1244 - val_acc: 0.5036\n",
      "Epoch 13/300\n",
      "36175/36175 [==============================] - 3s 90us/step - loss: 1.0434 - acc: 0.4799 - val_loss: 1.0430 - val_acc: 0.5043\n",
      "Epoch 14/300\n",
      "36175/36175 [==============================] - 3s 90us/step - loss: 0.9628 - acc: 0.4837 - val_loss: 0.9687 - val_acc: 0.5044\n",
      "Epoch 15/300\n",
      "36175/36175 [==============================] - 3s 89us/step - loss: 0.8955 - acc: 0.4883 - val_loss: 0.9064 - val_acc: 0.5056\n",
      "Epoch 16/300\n",
      "36175/36175 [==============================] - 4s 109us/step - loss: 0.8476 - acc: 0.4930 - val_loss: 0.8601 - val_acc: 0.5007\n",
      "Epoch 17/300\n",
      "36175/36175 [==============================] - 4s 109us/step - loss: 0.8200 - acc: 0.4979 - val_loss: 0.8305 - val_acc: 0.4954\n",
      "Epoch 18/300\n",
      "36175/36175 [==============================] - 5s 152us/step - loss: 0.8051 - acc: 0.4972 - val_loss: 0.8122 - val_acc: 0.4947\n",
      "Epoch 19/300\n",
      "36175/36175 [==============================] - 6s 163us/step - loss: 0.7912 - acc: 0.4979 - val_loss: 0.8000 - val_acc: 0.4968\n",
      "Epoch 20/300\n",
      "36175/36175 [==============================] - 4s 117us/step - loss: 0.7779 - acc: 0.4976 - val_loss: 0.7896 - val_acc: 0.4978\n",
      "Epoch 21/300\n",
      "36175/36175 [==============================] - 5s 131us/step - loss: 0.7667 - acc: 0.4977 - val_loss: 0.7798 - val_acc: 0.5011\n",
      "Epoch 22/300\n",
      "36175/36175 [==============================] - 6s 165us/step - loss: 0.7571 - acc: 0.4971 - val_loss: 0.7703 - val_acc: 0.5029\n",
      "Epoch 23/300\n",
      "36175/36175 [==============================] - 7s 186us/step - loss: 0.7485 - acc: 0.4974 - val_loss: 0.7616 - val_acc: 0.5043\n",
      "Epoch 24/300\n",
      "36175/36175 [==============================] - 6s 155us/step - loss: 0.7409 - acc: 0.4986 - val_loss: 0.7538 - val_acc: 0.5071\n",
      "Epoch 25/300\n",
      "36175/36175 [==============================] - 5s 142us/step - loss: 0.7342 - acc: 0.5007 - val_loss: 0.7470 - val_acc: 0.5087\n",
      "Epoch 26/300\n",
      "36175/36175 [==============================] - 5s 143us/step - loss: 0.7283 - acc: 0.5023 - val_loss: 0.7411 - val_acc: 0.5077\n",
      "Epoch 27/300\n",
      "36175/36175 [==============================] - 6s 173us/step - loss: 0.7232 - acc: 0.5031 - val_loss: 0.7361 - val_acc: 0.5071\n",
      "Epoch 28/300\n",
      "36175/36175 [==============================] - 6s 154us/step - loss: 0.7187 - acc: 0.5044 - val_loss: 0.7318 - val_acc: 0.5108\n",
      "Epoch 29/300\n",
      "36175/36175 [==============================] - 6s 169us/step - loss: 0.7148 - acc: 0.5076 - val_loss: 0.7283 - val_acc: 0.5148\n",
      "Epoch 30/300\n",
      "36175/36175 [==============================] - 4s 121us/step - loss: 0.7114 - acc: 0.5085 - val_loss: 0.7251 - val_acc: 0.5179\n",
      "Epoch 31/300\n",
      "36175/36175 [==============================] - 4s 113us/step - loss: 0.7085 - acc: 0.5098 - val_loss: 0.7222 - val_acc: 0.5195\n",
      "Epoch 32/300\n",
      "36175/36175 [==============================] - 4s 119us/step - loss: 0.7059 - acc: 0.5104 - val_loss: 0.7198 - val_acc: 0.5213\n",
      "Epoch 33/300\n",
      "36175/36175 [==============================] - 5s 147us/step - loss: 0.7037 - acc: 0.5123 - val_loss: 0.7178 - val_acc: 0.5228\n",
      "Epoch 34/300\n",
      "36175/36175 [==============================] - 5s 146us/step - loss: 0.7018 - acc: 0.5153 - val_loss: 0.7159 - val_acc: 0.5228\n",
      "Epoch 35/300\n",
      "36175/36175 [==============================] - 6s 168us/step - loss: 0.7001 - acc: 0.5178 - val_loss: 0.7143 - val_acc: 0.5212\n",
      "Epoch 36/300\n",
      "36175/36175 [==============================] - 5s 151us/step - loss: 0.6987 - acc: 0.5209 - val_loss: 0.7129 - val_acc: 0.5209\n",
      "Epoch 37/300\n",
      "36175/36175 [==============================] - 5s 139us/step - loss: 0.6974 - acc: 0.5230 - val_loss: 0.7117 - val_acc: 0.5203\n",
      "Epoch 38/300\n",
      "36175/36175 [==============================] - 5s 144us/step - loss: 0.6964 - acc: 0.5261 - val_loss: 0.7106 - val_acc: 0.5213\n",
      "Epoch 39/300\n",
      "36175/36175 [==============================] - 5s 149us/step - loss: 0.6954 - acc: 0.5275 - val_loss: 0.7096 - val_acc: 0.5186\n",
      "Epoch 40/300\n",
      "36175/36175 [==============================] - 5s 139us/step - loss: 0.6946 - acc: 0.5298 - val_loss: 0.7088 - val_acc: 0.5190\n",
      "Epoch 41/300\n",
      "36175/36175 [==============================] - 5s 139us/step - loss: 0.6939 - acc: 0.5317 - val_loss: 0.7079 - val_acc: 0.5203\n",
      "Epoch 42/300\n",
      "36175/36175 [==============================] - 5s 128us/step - loss: 0.6933 - acc: 0.5338 - val_loss: 0.7073 - val_acc: 0.5227\n",
      "Epoch 43/300\n",
      "36175/36175 [==============================] - 5s 132us/step - loss: 0.6927 - acc: 0.5357 - val_loss: 0.7066 - val_acc: 0.5201\n",
      "Epoch 44/300\n",
      "36175/36175 [==============================] - 5s 130us/step - loss: 0.6922 - acc: 0.5366 - val_loss: 0.7061 - val_acc: 0.5178\n",
      "Epoch 45/300\n",
      "36175/36175 [==============================] - 5s 150us/step - loss: 0.6918 - acc: 0.5368 - val_loss: 0.7057 - val_acc: 0.5198\n",
      "Epoch 46/300\n",
      "36175/36175 [==============================] - 5s 147us/step - loss: 0.6914 - acc: 0.5372 - val_loss: 0.7053 - val_acc: 0.5198\n",
      "Epoch 47/300\n",
      "36175/36175 [==============================] - 5s 152us/step - loss: 0.6910 - acc: 0.5372 - val_loss: 0.7049 - val_acc: 0.5199\n",
      "Epoch 48/300\n",
      "36175/36175 [==============================] - 6s 156us/step - loss: 0.6906 - acc: 0.5384 - val_loss: 0.7045 - val_acc: 0.5223\n",
      "Epoch 49/300\n",
      "36175/36175 [==============================] - 5s 144us/step - loss: 0.6903 - acc: 0.5393 - val_loss: 0.7041 - val_acc: 0.5218\n",
      "Epoch 50/300\n",
      "36175/36175 [==============================] - 5s 140us/step - loss: 0.6900 - acc: 0.5392 - val_loss: 0.7038 - val_acc: 0.5231\n",
      "Epoch 51/300\n",
      "36175/36175 [==============================] - 5s 131us/step - loss: 0.6898 - acc: 0.5405 - val_loss: 0.7036 - val_acc: 0.5239\n",
      "Epoch 52/300\n",
      "36175/36175 [==============================] - 6s 174us/step - loss: 0.6895 - acc: 0.5410 - val_loss: 0.7033 - val_acc: 0.5252\n",
      "Epoch 53/300\n",
      "36175/36175 [==============================] - 6s 179us/step - loss: 0.6892 - acc: 0.5424 - val_loss: 0.7031 - val_acc: 0.5257\n",
      "Epoch 54/300\n",
      "36175/36175 [==============================] - 6s 160us/step - loss: 0.6890 - acc: 0.5425 - val_loss: 0.7028 - val_acc: 0.5257\n",
      "Epoch 55/300\n",
      "36175/36175 [==============================] - 5s 151us/step - loss: 0.6887 - acc: 0.5434 - val_loss: 0.7026 - val_acc: 0.5271\n",
      "Epoch 56/300\n",
      "36175/36175 [==============================] - 5s 150us/step - loss: 0.6885 - acc: 0.5440 - val_loss: 0.7024 - val_acc: 0.5278\n",
      "Epoch 57/300\n",
      "36175/36175 [==============================] - 5s 137us/step - loss: 0.6883 - acc: 0.5442 - val_loss: 0.7023 - val_acc: 0.5284\n",
      "Epoch 58/300\n",
      "36175/36175 [==============================] - 6s 156us/step - loss: 0.6881 - acc: 0.5448 - val_loss: 0.7021 - val_acc: 0.5275\n",
      "Epoch 59/300\n",
      "36175/36175 [==============================] - 5s 133us/step - loss: 0.6879 - acc: 0.5453 - val_loss: 0.7019 - val_acc: 0.5266\n",
      "Epoch 60/300\n",
      "36175/36175 [==============================] - 5s 129us/step - loss: 0.6877 - acc: 0.5458 - val_loss: 0.7017 - val_acc: 0.5249\n",
      "Epoch 61/300\n",
      "36175/36175 [==============================] - 4s 107us/step - loss: 0.6875 - acc: 0.5466 - val_loss: 0.7016 - val_acc: 0.5247\n",
      "Epoch 62/300\n",
      "36175/36175 [==============================] - 4s 99us/step - loss: 0.6873 - acc: 0.5471 - val_loss: 0.7015 - val_acc: 0.5244\n",
      "Epoch 63/300\n",
      "36175/36175 [==============================] - 4s 109us/step - loss: 0.6871 - acc: 0.5478 - val_loss: 0.7014 - val_acc: 0.5248\n",
      "Epoch 64/300\n",
      "36175/36175 [==============================] - 4s 104us/step - loss: 0.6869 - acc: 0.5480 - val_loss: 0.7013 - val_acc: 0.5261\n",
      "Epoch 65/300\n",
      "36175/36175 [==============================] - 3s 96us/step - loss: 0.6867 - acc: 0.5486 - val_loss: 0.7012 - val_acc: 0.5260\n",
      "Epoch 66/300\n",
      "36175/36175 [==============================] - 4s 100us/step - loss: 0.6865 - acc: 0.5486 - val_loss: 0.7010 - val_acc: 0.5252\n",
      "Epoch 67/300\n",
      "36175/36175 [==============================] - 4s 98us/step - loss: 0.6863 - acc: 0.5496 - val_loss: 0.7009 - val_acc: 0.5248\n",
      "Epoch 68/300\n",
      "30000/36175 [=======================>......] - ETA: 0s - loss: 0.6859 - acc: 0.5501"
     ]
    },
    {
     "ename": "KeyboardInterrupt",
     "evalue": "",
     "output_type": "error",
     "traceback": [
      "\u001b[0;31m---------------------------------------------------------------------------\u001b[0m",
      "\u001b[0;31mKeyboardInterrupt\u001b[0m                         Traceback (most recent call last)",
      "\u001b[0;32m<ipython-input-10-bb8272f5c634>\u001b[0m in \u001b[0;36m<module>\u001b[0;34m\u001b[0m\n\u001b[1;32m     14\u001b[0m     \u001b[0mepochs\u001b[0m\u001b[0;34m=\u001b[0m\u001b[0;36m300\u001b[0m\u001b[0;34m,\u001b[0m\u001b[0;34m\u001b[0m\u001b[0;34m\u001b[0m\u001b[0m\n\u001b[1;32m     15\u001b[0m     \u001b[0mvalidation_split\u001b[0m\u001b[0;34m=\u001b[0m\u001b[0;36m0.2\u001b[0m\u001b[0;34m,\u001b[0m\u001b[0;34m\u001b[0m\u001b[0;34m\u001b[0m\u001b[0m\n\u001b[0;32m---> 16\u001b[0;31m     callbacks=[get_best_model])\n\u001b[0m",
      "\u001b[0;32m~/miniconda3/envs/finlab/lib/python3.6/site-packages/keras/engine/training.py\u001b[0m in \u001b[0;36mfit\u001b[0;34m(self, x, y, batch_size, epochs, verbose, callbacks, validation_split, validation_data, shuffle, class_weight, sample_weight, initial_epoch, steps_per_epoch, validation_steps, **kwargs)\u001b[0m\n\u001b[1;32m   1037\u001b[0m                                         \u001b[0minitial_epoch\u001b[0m\u001b[0;34m=\u001b[0m\u001b[0minitial_epoch\u001b[0m\u001b[0;34m,\u001b[0m\u001b[0;34m\u001b[0m\u001b[0;34m\u001b[0m\u001b[0m\n\u001b[1;32m   1038\u001b[0m                                         \u001b[0msteps_per_epoch\u001b[0m\u001b[0;34m=\u001b[0m\u001b[0msteps_per_epoch\u001b[0m\u001b[0;34m,\u001b[0m\u001b[0;34m\u001b[0m\u001b[0;34m\u001b[0m\u001b[0m\n\u001b[0;32m-> 1039\u001b[0;31m                                         validation_steps=validation_steps)\n\u001b[0m\u001b[1;32m   1040\u001b[0m \u001b[0;34m\u001b[0m\u001b[0m\n\u001b[1;32m   1041\u001b[0m     def evaluate(self, x=None, y=None,\n",
      "\u001b[0;32m~/miniconda3/envs/finlab/lib/python3.6/site-packages/keras/engine/training_arrays.py\u001b[0m in \u001b[0;36mfit_loop\u001b[0;34m(model, f, ins, out_labels, batch_size, epochs, verbose, callbacks, val_f, val_ins, shuffle, callback_metrics, initial_epoch, steps_per_epoch, validation_steps)\u001b[0m\n\u001b[1;32m    197\u001b[0m                     \u001b[0mins_batch\u001b[0m\u001b[0;34m[\u001b[0m\u001b[0mi\u001b[0m\u001b[0;34m]\u001b[0m \u001b[0;34m=\u001b[0m \u001b[0mins_batch\u001b[0m\u001b[0;34m[\u001b[0m\u001b[0mi\u001b[0m\u001b[0;34m]\u001b[0m\u001b[0;34m.\u001b[0m\u001b[0mtoarray\u001b[0m\u001b[0;34m(\u001b[0m\u001b[0;34m)\u001b[0m\u001b[0;34m\u001b[0m\u001b[0;34m\u001b[0m\u001b[0m\n\u001b[1;32m    198\u001b[0m \u001b[0;34m\u001b[0m\u001b[0m\n\u001b[0;32m--> 199\u001b[0;31m                 \u001b[0mouts\u001b[0m \u001b[0;34m=\u001b[0m \u001b[0mf\u001b[0m\u001b[0;34m(\u001b[0m\u001b[0mins_batch\u001b[0m\u001b[0;34m)\u001b[0m\u001b[0;34m\u001b[0m\u001b[0;34m\u001b[0m\u001b[0m\n\u001b[0m\u001b[1;32m    200\u001b[0m                 \u001b[0mouts\u001b[0m \u001b[0;34m=\u001b[0m \u001b[0mto_list\u001b[0m\u001b[0;34m(\u001b[0m\u001b[0mouts\u001b[0m\u001b[0;34m)\u001b[0m\u001b[0;34m\u001b[0m\u001b[0;34m\u001b[0m\u001b[0m\n\u001b[1;32m    201\u001b[0m                 \u001b[0;32mfor\u001b[0m \u001b[0ml\u001b[0m\u001b[0;34m,\u001b[0m \u001b[0mo\u001b[0m \u001b[0;32min\u001b[0m \u001b[0mzip\u001b[0m\u001b[0;34m(\u001b[0m\u001b[0mout_labels\u001b[0m\u001b[0;34m,\u001b[0m \u001b[0mouts\u001b[0m\u001b[0;34m)\u001b[0m\u001b[0;34m:\u001b[0m\u001b[0;34m\u001b[0m\u001b[0;34m\u001b[0m\u001b[0m\n",
      "\u001b[0;32m~/miniconda3/envs/finlab/lib/python3.6/site-packages/keras/backend/tensorflow_backend.py\u001b[0m in \u001b[0;36m__call__\u001b[0;34m(self, inputs)\u001b[0m\n\u001b[1;32m   2713\u001b[0m                 \u001b[0;32mreturn\u001b[0m \u001b[0mself\u001b[0m\u001b[0;34m.\u001b[0m\u001b[0m_legacy_call\u001b[0m\u001b[0;34m(\u001b[0m\u001b[0minputs\u001b[0m\u001b[0;34m)\u001b[0m\u001b[0;34m\u001b[0m\u001b[0;34m\u001b[0m\u001b[0m\n\u001b[1;32m   2714\u001b[0m \u001b[0;34m\u001b[0m\u001b[0m\n\u001b[0;32m-> 2715\u001b[0;31m             \u001b[0;32mreturn\u001b[0m \u001b[0mself\u001b[0m\u001b[0;34m.\u001b[0m\u001b[0m_call\u001b[0m\u001b[0;34m(\u001b[0m\u001b[0minputs\u001b[0m\u001b[0;34m)\u001b[0m\u001b[0;34m\u001b[0m\u001b[0;34m\u001b[0m\u001b[0m\n\u001b[0m\u001b[1;32m   2716\u001b[0m         \u001b[0;32melse\u001b[0m\u001b[0;34m:\u001b[0m\u001b[0;34m\u001b[0m\u001b[0;34m\u001b[0m\u001b[0m\n\u001b[1;32m   2717\u001b[0m             \u001b[0;32mif\u001b[0m \u001b[0mpy_any\u001b[0m\u001b[0;34m(\u001b[0m\u001b[0mis_tensor\u001b[0m\u001b[0;34m(\u001b[0m\u001b[0mx\u001b[0m\u001b[0;34m)\u001b[0m \u001b[0;32mfor\u001b[0m \u001b[0mx\u001b[0m \u001b[0;32min\u001b[0m \u001b[0minputs\u001b[0m\u001b[0;34m)\u001b[0m\u001b[0;34m:\u001b[0m\u001b[0;34m\u001b[0m\u001b[0;34m\u001b[0m\u001b[0m\n",
      "\u001b[0;32m~/miniconda3/envs/finlab/lib/python3.6/site-packages/keras/backend/tensorflow_backend.py\u001b[0m in \u001b[0;36m_call\u001b[0;34m(self, inputs)\u001b[0m\n\u001b[1;32m   2673\u001b[0m             \u001b[0mfetched\u001b[0m \u001b[0;34m=\u001b[0m \u001b[0mself\u001b[0m\u001b[0;34m.\u001b[0m\u001b[0m_callable_fn\u001b[0m\u001b[0;34m(\u001b[0m\u001b[0;34m*\u001b[0m\u001b[0marray_vals\u001b[0m\u001b[0;34m,\u001b[0m \u001b[0mrun_metadata\u001b[0m\u001b[0;34m=\u001b[0m\u001b[0mself\u001b[0m\u001b[0;34m.\u001b[0m\u001b[0mrun_metadata\u001b[0m\u001b[0;34m)\u001b[0m\u001b[0;34m\u001b[0m\u001b[0;34m\u001b[0m\u001b[0m\n\u001b[1;32m   2674\u001b[0m         \u001b[0;32melse\u001b[0m\u001b[0;34m:\u001b[0m\u001b[0;34m\u001b[0m\u001b[0;34m\u001b[0m\u001b[0m\n\u001b[0;32m-> 2675\u001b[0;31m             \u001b[0mfetched\u001b[0m \u001b[0;34m=\u001b[0m \u001b[0mself\u001b[0m\u001b[0;34m.\u001b[0m\u001b[0m_callable_fn\u001b[0m\u001b[0;34m(\u001b[0m\u001b[0;34m*\u001b[0m\u001b[0marray_vals\u001b[0m\u001b[0;34m)\u001b[0m\u001b[0;34m\u001b[0m\u001b[0;34m\u001b[0m\u001b[0m\n\u001b[0m\u001b[1;32m   2676\u001b[0m         \u001b[0;32mreturn\u001b[0m \u001b[0mfetched\u001b[0m\u001b[0;34m[\u001b[0m\u001b[0;34m:\u001b[0m\u001b[0mlen\u001b[0m\u001b[0;34m(\u001b[0m\u001b[0mself\u001b[0m\u001b[0;34m.\u001b[0m\u001b[0moutputs\u001b[0m\u001b[0;34m)\u001b[0m\u001b[0;34m]\u001b[0m\u001b[0;34m\u001b[0m\u001b[0;34m\u001b[0m\u001b[0m\n\u001b[1;32m   2677\u001b[0m \u001b[0;34m\u001b[0m\u001b[0m\n",
      "\u001b[0;32m~/miniconda3/envs/finlab/lib/python3.6/site-packages/tensorflow/python/client/session.py\u001b[0m in \u001b[0;36m__call__\u001b[0;34m(self, *args, **kwargs)\u001b[0m\n\u001b[1;32m   1456\u001b[0m         ret = tf_session.TF_SessionRunCallable(self._session._session,\n\u001b[1;32m   1457\u001b[0m                                                \u001b[0mself\u001b[0m\u001b[0;34m.\u001b[0m\u001b[0m_handle\u001b[0m\u001b[0;34m,\u001b[0m \u001b[0margs\u001b[0m\u001b[0;34m,\u001b[0m\u001b[0;34m\u001b[0m\u001b[0;34m\u001b[0m\u001b[0m\n\u001b[0;32m-> 1458\u001b[0;31m                                                run_metadata_ptr)\n\u001b[0m\u001b[1;32m   1459\u001b[0m         \u001b[0;32mif\u001b[0m \u001b[0mrun_metadata\u001b[0m\u001b[0;34m:\u001b[0m\u001b[0;34m\u001b[0m\u001b[0;34m\u001b[0m\u001b[0m\n\u001b[1;32m   1460\u001b[0m           \u001b[0mproto_data\u001b[0m \u001b[0;34m=\u001b[0m \u001b[0mtf_session\u001b[0m\u001b[0;34m.\u001b[0m\u001b[0mTF_GetBuffer\u001b[0m\u001b[0;34m(\u001b[0m\u001b[0mrun_metadata_ptr\u001b[0m\u001b[0;34m)\u001b[0m\u001b[0;34m\u001b[0m\u001b[0;34m\u001b[0m\u001b[0m\n",
      "\u001b[0;31mKeyboardInterrupt\u001b[0m: "
     ]
    }
   ],
   "source": [
    "# dataset_scaled_train = dataset_scaled[:'2015']\n",
    "\n",
    "import datetime\n",
    "X_train = X[indexes < datetime.datetime(2016, 1, 1)]\n",
    "y_train = y[indexes < datetime.datetime(2016, 1, 1)]\n",
    "\n",
    "\n",
    "get_best_model = keras.callbacks.ModelCheckpoint(\"lstm.mdl\", monitor=\"val_acc\")\n",
    "\n",
    "history = model.fit(\n",
    "    X_train,  \n",
    "    y_train > 1, \n",
    "    batch_size=5000, \n",
    "    epochs=300, \n",
    "    validation_split=0.2, \n",
    "    callbacks=[get_best_model])"
   ]
  },
  {
   "cell_type": "code",
   "execution_count": 12,
   "metadata": {},
   "outputs": [],
   "source": [
    "model.load_weights(\"lstm.mdl\")"
   ]
  },
  {
   "cell_type": "code",
   "execution_count": 13,
   "metadata": {},
   "outputs": [
    {
     "data": {
      "text/plain": [
       "[<matplotlib.lines.Line2D at 0xd1bdb38>]"
      ]
     },
     "execution_count": 13,
     "metadata": {},
     "output_type": "execute_result"
    },
    {
     "data": {
      "image/png": "[encoded data removed]",
      "text/plain": [
       "<Figure size 432x288 with 1 Axes>"
      ]
     },
     "metadata": {
      "needs_background": "light"
     },
     "output_type": "display_data"
    }
   ],
   "source": [
    "import matplotlib.pyplot as plt\n",
    "%matplotlib inline\n",
    "plt.plot(history.history['loss'])\n",
    "plt.plot(history.history['val_loss'])"
   ]
  },
  {
   "cell_type": "markdown",
   "metadata": {},
   "source": [
    "## 回測"
   ]
  },
  {
   "cell_type": "code",
   "execution_count": 14,
   "metadata": {},
   "outputs": [
    {
     "data": {
      "text/plain": [
       "<matplotlib.axes._subplots.AxesSubplot at 0x1d207b70>"
      ]
     },
     "execution_count": 14,
     "metadata": {},
     "output_type": "execute_result"
    },
    {
     "data": {
      "image/png": "[encoded data removed]",
      "text/plain": [
       "<Figure size 432x288 with 1 Axes>"
      ]
     },
     "metadata": {
      "needs_background": "light"
     },
     "output_type": "display_data"
    }
   ],
   "source": [
    "ey = model.predict(X)\n",
    "ey = pd.Series(ey.swapaxes(0,1)[0], index=indexes)\n",
    "ey.plot()\n"
   ]
  },
  {
   "cell_type": "code",
   "execution_count": 15,
   "metadata": {},
   "outputs": [
    {
     "data": {
      "text/plain": [
       "<matplotlib.axes._subplots.AxesSubplot at 0x1d769898>"
      ]
     },
     "execution_count": 15,
     "metadata": {},
     "output_type": "execute_result"
    },
    {
     "data": {
      "image/png": "[encoded data removed]",
      "text/plain": [
       "<Figure size 432x288 with 1 Axes>"
      ]
     },
     "metadata": {
      "needs_background": "light"
     },
     "output_type": "display_data"
    }
   ],
   "source": [
    "eq = twii[indexes]\n",
    "returns = (eq.shift(-1) - eq)\n",
    "\n",
    "signal = (ey > ey.quantile(0.6)).rolling(10).sum() > 0\n",
    "signal = signal.shift(1).fillna(False)\n",
    "\n",
    "eq = (returns[signal]['2016':]).cumsum()\n",
    "eq.plot()"
   ]
  },
  {
   "cell_type": "code",
   "execution_count": 16,
   "metadata": {},
   "outputs": [
    {
     "data": {
      "text/plain": [
       "675.0"
      ]
     },
     "execution_count": 16,
     "metadata": {},
     "output_type": "execute_result"
    }
   ],
   "source": [
    "(signal.astype(int).diff().abs().fillna(0) * 3)['2016':].sum()"
   ]
  }
 ],
 "metadata": {
  "kernelspec": {
   "display_name": "finlab",
   "language": "python",
   "name": "finlab"
  },
  "language_info": {
   "codemirror_mode": {
    "name": "ipython",
    "version": 3
   },
   "file_extension": ".py",
   "mimetype": "text/x-python",
   "name": "python",
   "nbconvert_exporter": "python",
   "pygments_lexer": "ipython3",
   "version": "3.6.8"
  }
 },
 "nbformat": 4,
 "nbformat_minor": 4
}
