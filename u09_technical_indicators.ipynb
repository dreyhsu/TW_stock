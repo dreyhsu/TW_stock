{
 "cells": [
  {
   "cell_type": "code",
   "execution_count": null,
   "metadata": {},
   "outputs": [],
   "source": [
    "from finlab.data import Data\n",
    "\n",
    "data = Data()\n",
    "\n",
    "\n",
    "close = data.get(\"收盤價\")\n",
    "open_ = data.get(\"開盤價\")\n",
    "high = data.get(\"最高價\")\n",
    "low = data.get(\"最低價\")\n",
    "vol = data.get(\"成交股數\")"
   ]
  },
  {
   "cell_type": "markdown",
   "metadata": {},
   "source": [
    "### talib直接使用"
   ]
  },
  {
   "cell_type": "code",
   "execution_count": null,
   "metadata": {},
   "outputs": [],
   "source": [
    "import talib\n",
    "import matplotlib.pyplot as plt\n",
    "%matplotlib inline\n",
    "\n",
    "talib.RSI(close['0050']).plot()"
   ]
  },
  {
   "cell_type": "markdown",
   "metadata": {},
   "source": [
    "### talib使用abstract（用dataframe）"
   ]
  },
  {
   "cell_type": "code",
   "execution_count": null,
   "metadata": {},
   "outputs": [],
   "source": [
    "import talib.abstract as abstract\n",
    "import pandas as pd\n",
    "\n",
    "sid = '0050'\n",
    "\n",
    "df = pd.DataFrame({\n",
    "    'open': open_[sid],\n",
    "    'high': high[sid],\n",
    "    'low': low[sid],\n",
    "    'close': close[sid],\n",
    "    'volume': vol[sid]\n",
    "}).astype(float)\n",
    "\n",
    "abstract.RSI(df).plot()"
   ]
  },
  {
   "cell_type": "markdown",
   "metadata": {},
   "source": [
    "### 計算所有指標"
   ]
  },
  {
   "cell_type": "code",
   "execution_count": null,
   "metadata": {
    "scrolled": true
   },
   "outputs": [],
   "source": [
    "indicators = {}\n",
    "for fname in dir(abstract):\n",
    "    if fname[:2] == '__':\n",
    "        continue\n",
    "        \n",
    "    if fname[:3] == 'CDL':\n",
    "        continue\n",
    "        \n",
    "    if fname.upper() != fname:\n",
    "        continue\n",
    "    \n",
    "    print(fname)\n",
    "    try:\n",
    "        f = getattr(abstract, fname)\n",
    "        indicators[fname] = f(df)\n",
    "    except:\n",
    "        print('fail')\n",
    "        pass"
   ]
  },
  {
   "cell_type": "markdown",
   "metadata": {},
   "source": [
    "### 繪製所有指標"
   ]
  },
  {
   "cell_type": "code",
   "execution_count": null,
   "metadata": {
    "scrolled": true
   },
   "outputs": [],
   "source": [
    "import matplotlib.pyplot as plt\n",
    "%matplotlib inline\n",
    "for name, df_ in indicators.items():\n",
    "    print(name)\n",
    "    df_.hist()\n",
    "    plt.show()\n",
    "    df_.plot()\n",
    "    plt.show()"
   ]
  },
  {
   "cell_type": "markdown",
   "metadata": {},
   "source": [
    "### 察看指標的屬性"
   ]
  },
  {
   "cell_type": "code",
   "execution_count": null,
   "metadata": {},
   "outputs": [],
   "source": [
    "print('------- parameters -------')\n",
    "print(abstract.STOCH.parameters)\n",
    "\n",
    "print('------- output_names ------')\n",
    "print(abstract.STOCH.output_names)"
   ]
  },
  {
   "cell_type": "markdown",
   "metadata": {},
   "source": [
    "### keyword arguments 教學"
   ]
  },
  {
   "cell_type": "code",
   "execution_count": null,
   "metadata": {},
   "outputs": [],
   "source": [
    "# functional argument\n",
    "\n",
    "def func(a, b):\n",
    "    return a + b\n",
    "\n",
    "params = {}\n",
    "params['a'] = 1\n",
    "params['b'] = 2\n",
    "\n",
    "func(**params) # func(a=1, b=2)"
   ]
  },
  {
   "cell_type": "markdown",
   "metadata": {},
   "source": [
    "### 參數調整"
   ]
  },
  {
   "cell_type": "code",
   "execution_count": null,
   "metadata": {},
   "outputs": [],
   "source": [
    "params = dict(abstract.STOCH.parameters)\n",
    "\n",
    "print('original parameters')\n",
    "print(params)\n",
    "\n",
    "params2 = {}\n",
    "for name, value in params.items():\n",
    "    params2[name] = value * 2\n",
    "\n",
    "print('modified parameters')\n",
    "print(params2)"
   ]
  },
  {
   "cell_type": "markdown",
   "metadata": {},
   "source": [
    "### 製作features"
   ]
  },
  {
   "cell_type": "code",
   "execution_count": null,
   "metadata": {},
   "outputs": [],
   "source": [
    "from finlab import ml\n",
    "\n",
    "features = ml.talib_features(df, ['STOCH', 'RSI', 'ADOSC'], [1,3,5,10])\n",
    "features"
   ]
  },
  {
   "cell_type": "code",
   "execution_count": null,
   "metadata": {},
   "outputs": [],
   "source": []
  }
 ],
 "metadata": {
  "kernelspec": {
   "display_name": "finlab",
   "language": "python",
   "name": "finlab"
  },
  "language_info": {
   "codemirror_mode": {
    "name": "ipython",
    "version": 3
   },
   "file_extension": ".py",
   "mimetype": "text/x-python",
   "name": "python",
   "nbconvert_exporter": "python",
   "pygments_lexer": "ipython3",
   "version": "3.6.8"
  }
 },
 "nbformat": 4,
 "nbformat_minor": 4
}
