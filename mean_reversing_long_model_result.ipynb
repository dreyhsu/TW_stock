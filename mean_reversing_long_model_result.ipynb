{
 "cells": [
  {
   "cell_type": "code",
   "execution_count": 51,
   "metadata": {},
   "outputs": [],
   "source": [
    "import numpy as np\n",
    "import matplotlib.pyplot as plt\n",
    "from sklearn.naive_bayes import GaussianNB, BernoulliNB\n",
    "from sklearn.svm import SVC\n",
    "from sklearn.ensemble import ExtraTreesClassifier\n",
    "from sklearn.datasets import load_digits\n",
    "from sklearn.model_selection import learning_curve\n",
    "from sklearn.model_selection import ShuffleSplit\n",
    "from sklearn.ensemble import RandomForestClassifier\n",
    "from xgboost import XGBClassifier\n",
    "\n",
    "from sklearn.metrics import roc_curve\n",
    "from sklearn.metrics import classification_report\n",
    "from sklearn.metrics import confusion_matrix\n",
    "from sklearn.metrics import accuracy_score\n",
    "\n",
    "import joblib\n",
    "\n",
    "import lightgbm as lgb\n",
    "from lightgbm import LGBMClassifier\n",
    "\n",
    "import pandas as pd\n",
    "from sklearn.model_selection import train_test_split\n",
    "from sklearn.utils import resample"
   ]
  },
  {
   "cell_type": "code",
   "execution_count": 52,
   "metadata": {},
   "outputs": [],
   "source": [
    "def plot_learning_curve(estimator, title, X, y, ylim=None, cv=None,\n",
    "                        n_jobs=1, train_sizes=np.linspace(.1, 1.0, 5)):\n",
    "    \"\"\"\n",
    "    Generate a simple plot of the test and training learning curve.\n",
    "\n",
    "    Parameters\n",
    "    ----------\n",
    "    estimator : object type that implements the \"fit\" and \"predict\" methods\n",
    "        An object of that type which is cloned for each validation.\n",
    "\n",
    "    title : string\n",
    "        Title for the chart.\n",
    "\n",
    "    X : array-like, shape (n_samples, n_features)\n",
    "        Training vector, where n_samples is the number of samples and\n",
    "        n_features is the number of features.\n",
    "\n",
    "    y : array-like, shape (n_samples) or (n_samples, n_features), optional\n",
    "        Target relative to X for classification or regression;\n",
    "        None for unsupervised learning.\n",
    "\n",
    "    ylim : tuple, shape (ymin, ymax), optional\n",
    "        Defines minimum and maximum yvalues plotted.\n",
    "\n",
    "    cv : int, cross-validation generator or an iterable, optional\n",
    "        Determines the cross-validation splitting strategy.\n",
    "        Possible inputs for cv are:\n",
    "          - None, to use the default 3-fold cross-validation,\n",
    "          - integer, to specify the number of folds.\n",
    "          - An object to be used as a cross-validation generator.\n",
    "          - An iterable yielding train/test splits.\n",
    "\n",
    "        For integer/None inputs, if ``y`` is binary or multiclass,\n",
    "        :class:`StratifiedKFold` used. If the estimator is not a classifier\n",
    "        or if ``y`` is neither binary nor multiclass, :class:`KFold` is used.\n",
    "\n",
    "        Refer :ref:`User Guide <cross_validation>` for the various\n",
    "        cross-validators that can be used here.\n",
    "\n",
    "    n_jobs : integer, optional\n",
    "        Number of jobs to run in parallel (default 1).\n",
    "    \"\"\"\n",
    "    plt.figure()\n",
    "    plt.title(title)\n",
    "    if ylim is not None:\n",
    "        plt.ylim(*ylim)\n",
    "    plt.xlabel(\"Training examples\")\n",
    "    plt.ylabel(\"Score\")\n",
    "    train_sizes, train_scores, test_scores = learning_curve(\n",
    "        estimator, X, y, cv=cv, n_jobs=n_jobs, train_sizes=train_sizes)\n",
    "    train_scores_mean = np.mean(train_scores, axis=1)\n",
    "    train_scores_std = np.std(train_scores, axis=1)\n",
    "    test_scores_mean = np.mean(test_scores, axis=1)\n",
    "    test_scores_std = np.std(test_scores, axis=1)\n",
    "    plt.grid()\n",
    "\n",
    "    plt.fill_between(train_sizes, train_scores_mean - train_scores_std,\n",
    "                     train_scores_mean + train_scores_std, alpha=0.1,\n",
    "                     color=\"r\")\n",
    "    plt.fill_between(train_sizes, test_scores_mean - test_scores_std,\n",
    "                     test_scores_mean + test_scores_std, alpha=0.1, color=\"g\")\n",
    "    plt.plot(train_sizes, train_scores_mean, 'o-', color=\"r\",\n",
    "             label=\"Training score\")\n",
    "    plt.plot(train_sizes, test_scores_mean, 'o-', color=\"g\",\n",
    "             label=\"Cross-validation score\")\n",
    "\n",
    "    plt.legend(loc=\"best\")\n",
    "    return plt"
   ]
  },
  {
   "cell_type": "code",
   "execution_count": 53,
   "metadata": {},
   "outputs": [],
   "source": [
    "raw_data = pd.read_csv('training_data/mean_reverse_training_data.csv')"
   ]
  },
  {
   "cell_type": "code",
   "execution_count": 54,
   "metadata": {},
   "outputs": [
    {
     "name": "stdout",
     "output_type": "stream",
     "text": [
      "training_data.shape : (21771, 51)\n",
      "(15239, 49)\n",
      "(6532, 49)\n"
     ]
    }
   ],
   "source": [
    "training_data = raw_data.copy()\n",
    "training_data['out'] = training_data['out'].apply(lambda x:1 if x == 1 else 0)\n",
    "training_data = training_data.sort_values(by=['date'])\n",
    "training_data = training_data[training_data.side == 1]\n",
    "training_data = training_data[training_data.date > '2020-01-01']\n",
    "print(f'training_data.shape : {training_data.shape}')\n",
    "\n",
    "col_list = ['date', 'com_rev', 'd_yield', 'pb', 'AD', 'OBV', 'ADOSC', 'bias5',\n",
    "    'bias10', 'bias20', 'bias60', 'acc5', 'acc10', 'acc20', 'acc60', 'rsi',\n",
    "    'log_ret', 'mom1', 'mom2', 'mom3', 'mom4', 'mom5', 'volatility',\n",
    "    'autocorr_1', 'autocorr_2', 'autocorr_3', 'autocorr_4', 'autocorr_5',\n",
    "    'log_t1', 'log_t2', 'log_t3', 'log_t4', 'log_t5', 'b_OBV', 'b_AD', 'b_ADOSC',\n",
    "    'b_MA5', 'b_MA20', 'b_MA60', 'b_bias5', 'b_bias10', 'b_bias20', 'b_bias60',\n",
    "    'b_acc5', 'b_acc10', 'b_acc20', 'b_acc60', 'b_volatility', 'out']\n",
    "    \n",
    "data = training_data[col_list]\n",
    "train_data = data.iloc[:int(training_data.shape[0]*.7),:]\n",
    "print(train_data.shape)\n",
    "test_data = data.iloc[int(training_data.shape[0]*.7):,:]\n",
    "print(test_data.shape)"
   ]
  },
  {
   "cell_type": "code",
   "execution_count": 55,
   "metadata": {},
   "outputs": [
    {
     "name": "stdout",
     "output_type": "stream",
     "text": [
      "before\n",
      " 0    8829\n",
      "1    6410\n",
      "Name: out, dtype: int64\n",
      "after\n",
      " 1    8829\n",
      "0    8829\n",
      "Name: out, dtype: int64\n"
     ]
    }
   ],
   "source": [
    "def Upsample(df):\n",
    "    # Separate majority and minority classes\n",
    "    df_majority = df[df.out==0]\n",
    "    df_minority = df[df.out==1]\n",
    "    \n",
    "    # Upsample minority class\n",
    "    df_minority_upsampled = resample(df_minority, \n",
    "                                    replace=True,     # sample with replacement\n",
    "                                    n_samples=df.out.value_counts()[0],    # to match majority class\n",
    "                                    random_state=123) # reproducible results\n",
    "    \n",
    "    # Combine majority class with upsampled minority class\n",
    "    df_upsampled = pd.concat([df_majority, df_minority_upsampled])\n",
    "    \n",
    "    # Display new class counts\n",
    "    print(f'before\\n {df.out.value_counts()}')\n",
    "    print(f'after\\n {df_upsampled.out.value_counts()}')\n",
    "    return df_upsampled\n",
    "\n",
    "train_data_up = Upsample(train_data)\n",
    "# test_data_up = Upsample(test_data)\n",
    "# train_data_up = train_data_up.sample(frac=0.9, replace=True, random_state=1)\n",
    "\n",
    "X = train_data_up.iloc[:,1:-1]\n",
    "y = train_data_up.iloc[:,-1]\n",
    "X_test = test_data.iloc[:,1:-1]\n",
    "y_test = test_data.iloc[:,-1]"
   ]
  },
  {
   "cell_type": "code",
   "execution_count": 56,
   "metadata": {},
   "outputs": [
    {
     "data": {
      "text/html": [
       "<div>\n",
       "<style scoped>\n",
       "    .dataframe tbody tr th:only-of-type {\n",
       "        vertical-align: middle;\n",
       "    }\n",
       "\n",
       "    .dataframe tbody tr th {\n",
       "        vertical-align: top;\n",
       "    }\n",
       "\n",
       "    .dataframe thead th {\n",
       "        text-align: right;\n",
       "    }\n",
       "</style>\n",
       "<table border=\"1\" class=\"dataframe\">\n",
       "  <thead>\n",
       "    <tr style=\"text-align: right;\">\n",
       "      <th></th>\n",
       "      <th>com_rev</th>\n",
       "      <th>d_yield</th>\n",
       "      <th>pb</th>\n",
       "      <th>AD</th>\n",
       "      <th>OBV</th>\n",
       "      <th>ADOSC</th>\n",
       "      <th>bias5</th>\n",
       "      <th>bias10</th>\n",
       "      <th>bias20</th>\n",
       "      <th>bias60</th>\n",
       "      <th>...</th>\n",
       "      <th>b_MA60</th>\n",
       "      <th>b_bias5</th>\n",
       "      <th>b_bias10</th>\n",
       "      <th>b_bias20</th>\n",
       "      <th>b_bias60</th>\n",
       "      <th>b_acc5</th>\n",
       "      <th>b_acc10</th>\n",
       "      <th>b_acc20</th>\n",
       "      <th>b_acc60</th>\n",
       "      <th>b_volatility</th>\n",
       "    </tr>\n",
       "  </thead>\n",
       "  <tbody>\n",
       "    <tr>\n",
       "      <th>312201</th>\n",
       "      <td>0.545141</td>\n",
       "      <td>0.829545</td>\n",
       "      <td>0.162162</td>\n",
       "      <td>0.461082</td>\n",
       "      <td>0.394591</td>\n",
       "      <td>0.259963</td>\n",
       "      <td>0.245649</td>\n",
       "      <td>0.305462</td>\n",
       "      <td>0.353893</td>\n",
       "      <td>0.183970</td>\n",
       "      <td>...</td>\n",
       "      <td>0.0</td>\n",
       "      <td>0.568061</td>\n",
       "      <td>0.534916</td>\n",
       "      <td>0.454489</td>\n",
       "      <td>0.531943</td>\n",
       "      <td>0.405981</td>\n",
       "      <td>0.57264</td>\n",
       "      <td>0.543531</td>\n",
       "      <td>0.350727</td>\n",
       "      <td>0.282616</td>\n",
       "    </tr>\n",
       "    <tr>\n",
       "      <th>335927</th>\n",
       "      <td>0.028938</td>\n",
       "      <td>0.544643</td>\n",
       "      <td>0.862319</td>\n",
       "      <td>0.998662</td>\n",
       "      <td>0.131127</td>\n",
       "      <td>0.790100</td>\n",
       "      <td>0.045355</td>\n",
       "      <td>0.032115</td>\n",
       "      <td>0.077011</td>\n",
       "      <td>0.141014</td>\n",
       "      <td>...</td>\n",
       "      <td>0.0</td>\n",
       "      <td>0.568061</td>\n",
       "      <td>0.534916</td>\n",
       "      <td>0.454489</td>\n",
       "      <td>0.531943</td>\n",
       "      <td>0.405981</td>\n",
       "      <td>0.57264</td>\n",
       "      <td>0.543531</td>\n",
       "      <td>0.350727</td>\n",
       "      <td>0.282616</td>\n",
       "    </tr>\n",
       "    <tr>\n",
       "      <th>126699</th>\n",
       "      <td>0.257102</td>\n",
       "      <td>0.358209</td>\n",
       "      <td>0.077273</td>\n",
       "      <td>0.729192</td>\n",
       "      <td>0.020953</td>\n",
       "      <td>0.421255</td>\n",
       "      <td>0.293563</td>\n",
       "      <td>0.224709</td>\n",
       "      <td>0.273439</td>\n",
       "      <td>0.501775</td>\n",
       "      <td>...</td>\n",
       "      <td>0.0</td>\n",
       "      <td>0.568061</td>\n",
       "      <td>0.534916</td>\n",
       "      <td>0.454489</td>\n",
       "      <td>0.531943</td>\n",
       "      <td>0.405981</td>\n",
       "      <td>0.57264</td>\n",
       "      <td>0.543531</td>\n",
       "      <td>0.350727</td>\n",
       "      <td>0.282616</td>\n",
       "    </tr>\n",
       "    <tr>\n",
       "      <th>207829</th>\n",
       "      <td>0.621208</td>\n",
       "      <td>0.018325</td>\n",
       "      <td>0.202703</td>\n",
       "      <td>0.527471</td>\n",
       "      <td>0.020825</td>\n",
       "      <td>0.355676</td>\n",
       "      <td>0.241431</td>\n",
       "      <td>0.221730</td>\n",
       "      <td>0.191454</td>\n",
       "      <td>0.277127</td>\n",
       "      <td>...</td>\n",
       "      <td>0.0</td>\n",
       "      <td>0.568061</td>\n",
       "      <td>0.534916</td>\n",
       "      <td>0.454489</td>\n",
       "      <td>0.531943</td>\n",
       "      <td>0.405981</td>\n",
       "      <td>0.57264</td>\n",
       "      <td>0.543531</td>\n",
       "      <td>0.350727</td>\n",
       "      <td>0.282616</td>\n",
       "    </tr>\n",
       "    <tr>\n",
       "      <th>213955</th>\n",
       "      <td>0.541833</td>\n",
       "      <td>0.904459</td>\n",
       "      <td>0.242991</td>\n",
       "      <td>0.360714</td>\n",
       "      <td>0.923632</td>\n",
       "      <td>0.812519</td>\n",
       "      <td>0.000000</td>\n",
       "      <td>0.000000</td>\n",
       "      <td>0.027394</td>\n",
       "      <td>0.066814</td>\n",
       "      <td>...</td>\n",
       "      <td>0.0</td>\n",
       "      <td>0.568061</td>\n",
       "      <td>0.534916</td>\n",
       "      <td>0.454489</td>\n",
       "      <td>0.531943</td>\n",
       "      <td>0.405981</td>\n",
       "      <td>0.57264</td>\n",
       "      <td>0.543531</td>\n",
       "      <td>0.350727</td>\n",
       "      <td>0.282616</td>\n",
       "    </tr>\n",
       "  </tbody>\n",
       "</table>\n",
       "<p>5 rows × 47 columns</p>\n",
       "</div>"
      ],
      "text/plain": [
       "         com_rev   d_yield        pb        AD       OBV     ADOSC     bias5  \\\n",
       "312201  0.545141  0.829545  0.162162  0.461082  0.394591  0.259963  0.245649   \n",
       "335927  0.028938  0.544643  0.862319  0.998662  0.131127  0.790100  0.045355   \n",
       "126699  0.257102  0.358209  0.077273  0.729192  0.020953  0.421255  0.293563   \n",
       "207829  0.621208  0.018325  0.202703  0.527471  0.020825  0.355676  0.241431   \n",
       "213955  0.541833  0.904459  0.242991  0.360714  0.923632  0.812519  0.000000   \n",
       "\n",
       "          bias10    bias20    bias60  ...  b_MA60   b_bias5  b_bias10  \\\n",
       "312201  0.305462  0.353893  0.183970  ...     0.0  0.568061  0.534916   \n",
       "335927  0.032115  0.077011  0.141014  ...     0.0  0.568061  0.534916   \n",
       "126699  0.224709  0.273439  0.501775  ...     0.0  0.568061  0.534916   \n",
       "207829  0.221730  0.191454  0.277127  ...     0.0  0.568061  0.534916   \n",
       "213955  0.000000  0.027394  0.066814  ...     0.0  0.568061  0.534916   \n",
       "\n",
       "        b_bias20  b_bias60    b_acc5  b_acc10   b_acc20   b_acc60  \\\n",
       "312201  0.454489  0.531943  0.405981  0.57264  0.543531  0.350727   \n",
       "335927  0.454489  0.531943  0.405981  0.57264  0.543531  0.350727   \n",
       "126699  0.454489  0.531943  0.405981  0.57264  0.543531  0.350727   \n",
       "207829  0.454489  0.531943  0.405981  0.57264  0.543531  0.350727   \n",
       "213955  0.454489  0.531943  0.405981  0.57264  0.543531  0.350727   \n",
       "\n",
       "        b_volatility  \n",
       "312201      0.282616  \n",
       "335927      0.282616  \n",
       "126699      0.282616  \n",
       "207829      0.282616  \n",
       "213955      0.282616  \n",
       "\n",
       "[5 rows x 47 columns]"
      ]
     },
     "execution_count": 56,
     "metadata": {},
     "output_type": "execute_result"
    }
   ],
   "source": [
    "X.head()"
   ]
  },
  {
   "cell_type": "code",
   "execution_count": 57,
   "metadata": {},
   "outputs": [
    {
     "data": {
      "image/png": "[encoded data removed]",
      "text/plain": [
       "<Figure size 432x288 with 1 Axes>"
      ]
     },
     "metadata": {
      "needs_background": "light"
     },
     "output_type": "display_data"
    }
   ],
   "source": [
    "# digits = load_digits()\n",
    "# X, y = digits.data, digits.target\n",
    "\n",
    "\n",
    "title = \"Learning Curves (Naive Bayes)\"\n",
    "# Cross validation with 100 iterations to get smoother mean test and train\n",
    "# score curves, each time with 20% data randomly selected as a validation set.\n",
    "cv = ShuffleSplit(n_splits=10, test_size=0.2, random_state=0)\n",
    "\n",
    "estimator = BernoulliNB()\n",
    "# estimator = lgb.LGBMClassifier(objective = 'binary', \n",
    "#                                 learning_rate = 0.05, \n",
    "#                                 n_estimators = 3000, \n",
    "#                                 random_state=0)\n",
    "plot_learning_curve(estimator, title, X, y, ylim=(0.1, 1.01), cv=cv, n_jobs=4)\n",
    "\n",
    "# title = \"Learning Curves (ExtraTreesClassifier)\"\n",
    "# # SVC is more expensive so we do a lower number of CV iterations:\n",
    "# cv = ShuffleSplit(n_splits=10, test_size=0.2, random_state=0)\n",
    "# estimator = RandomForestClassifier(max_depth=15, random_state=0, n_estimators=500, bootstrap=True)\n",
    "# estimator = ExtraTreesClassifier(\n",
    "#     n_estimators=100, criterion=\"entropy\", random_state=0, class_weight='balanced',\n",
    "#     warm_start=True, bootstrap=True\n",
    "#     )\n",
    "# # plot_learning_curve(estimator, title, X, y, ylim=None, cv=5,\n",
    "# #                         n_jobs=4, train_sizes=np.linspace(.1, 1.0, 5))\n",
    "# plot_learning_curve(estimator, title, X, y, (0.1, 1.01), cv=cv, n_jobs=4)\n",
    "\n",
    "plt.show()"
   ]
  },
  {
   "cell_type": "code",
   "execution_count": 58,
   "metadata": {},
   "outputs": [
    {
     "data": {
      "text/plain": [
       "BernoulliNB(alpha=1.0, binarize=0.0, class_prior=None, fit_prior=True)"
      ]
     },
     "execution_count": 58,
     "metadata": {},
     "output_type": "execute_result"
    }
   ],
   "source": [
    "# ex_clf = ExtraTreesClassifier(\n",
    "#     n_estimators=1000, criterion=\"entropy\", random_state=0, class_weight='balanced',\n",
    "#     warm_start=True, bootstrap=True\n",
    "#     )\n",
    "# ex_clf = RandomForestClassifier(max_depth=15, random_state=42, n_estimators=500, bootstrap=True)\n",
    "# ex_clf.fit(X, y)\n",
    "# ex_clf = lgb.LGBMClassifier(objective = 'binary', \n",
    "#                                 learning_rate = 0.05, \n",
    "#                                 n_estimators = 3000, \n",
    "#                                 random_state=0)\n",
    "ex_clf = BernoulliNB()\n",
    "ex_clf.fit(X, y)"
   ]
  },
  {
   "cell_type": "code",
   "execution_count": 59,
   "metadata": {},
   "outputs": [
    {
     "name": "stdout",
     "output_type": "stream",
     "text": [
      "Accuracy: 59.91%\n"
     ]
    }
   ],
   "source": [
    "model = ex_clf\n",
    "# make predictions for test data\n",
    "y_pred = model.predict(X_test)\n",
    "predictions = [round(value) for value in y_pred]\n",
    "\n",
    "# evaluate predictions\n",
    "accuracy = accuracy_score(y_test, predictions)\n",
    "print(\"Accuracy: %.2f%%\" % (accuracy * 100.0))"
   ]
  },
  {
   "cell_type": "code",
   "execution_count": 60,
   "metadata": {},
   "outputs": [
    {
     "name": "stdout",
     "output_type": "stream",
     "text": [
      "              precision    recall  f1-score   support\n",
      "\n",
      "           0       0.56      0.90      0.69      3264\n",
      "           1       0.74      0.30      0.43      3268\n",
      "\n",
      "    accuracy                           0.60      6532\n",
      "   macro avg       0.65      0.60      0.56      6532\n",
      "weighted avg       0.65      0.60      0.56      6532\n",
      "\n",
      "Confusion Matrix\n",
      "[[2923  341]\n",
      " [2278  990]]\n",
      "\n",
      "Accuracy\n",
      "0.5990508266993264\n"
     ]
    },
    {
     "data": {
      "image/png": "[encoded data removed]",
      "text/plain": [
       "<Figure size 432x288 with 1 Axes>"
      ]
     },
     "metadata": {
      "needs_background": "light"
     },
     "output_type": "display_data"
    }
   ],
   "source": [
    "y_pred_rf = model.predict_proba(X_test)[:, 1]\n",
    "y_pred = model.predict(X_test)\n",
    "fpr_rf, tpr_rf, _ = roc_curve(y_test, y_pred_rf)\n",
    "print(classification_report(y_test, y_pred))\n",
    "\n",
    "print(\"Confusion Matrix\")\n",
    "print(confusion_matrix(y_test, y_pred))\n",
    "\n",
    "print('')\n",
    "print(\"Accuracy\")\n",
    "print(accuracy_score(y_test, y_pred))\n",
    "\n",
    "plt.figure(1)\n",
    "plt.plot([0, 1], [0, 1], 'k--')\n",
    "plt.plot(fpr_rf, tpr_rf, label='RF')\n",
    "plt.xlabel('False positive rate')\n",
    "plt.ylabel('True positive rate')\n",
    "plt.title('ROC curve')\n",
    "plt.legend(loc='best')\n",
    "plt.show()"
   ]
  },
  {
   "cell_type": "code",
   "execution_count": 61,
   "metadata": {},
   "outputs": [
    {
     "ename": "AttributeError",
     "evalue": "'BernoulliNB' object has no attribute 'feature_importances_'",
     "output_type": "error",
     "traceback": [
      "\u001b[1;31m---------------------------------------------------------------------------\u001b[0m",
      "\u001b[1;31mAttributeError\u001b[0m                            Traceback (most recent call last)",
      "\u001b[1;32m<ipython-input-61-d28308b42ea1>\u001b[0m in \u001b[0;36m<module>\u001b[1;34m\u001b[0m\n\u001b[0;32m      3\u001b[0m \u001b[0mfigsize\u001b[0m \u001b[1;33m=\u001b[0m \u001b[1;33m(\u001b[0m\u001b[1;36m15\u001b[0m\u001b[1;33m,\u001b[0m \u001b[1;36m10\u001b[0m\u001b[1;33m)\u001b[0m\u001b[1;33m\u001b[0m\u001b[1;33m\u001b[0m\u001b[0m\n\u001b[0;32m      4\u001b[0m \u001b[1;33m\u001b[0m\u001b[0m\n\u001b[1;32m----> 5\u001b[1;33m \u001b[0mfeat_imp\u001b[0m \u001b[1;33m=\u001b[0m \u001b[0mpd\u001b[0m\u001b[1;33m.\u001b[0m\u001b[0mDataFrame\u001b[0m\u001b[1;33m(\u001b[0m\u001b[1;33m{\u001b[0m\u001b[1;34m'Importance'\u001b[0m\u001b[1;33m:\u001b[0m\u001b[0mmodel\u001b[0m\u001b[1;33m.\u001b[0m\u001b[0mfeature_importances_\u001b[0m\u001b[1;33m}\u001b[0m\u001b[1;33m)\u001b[0m\u001b[1;33m\u001b[0m\u001b[1;33m\u001b[0m\u001b[0m\n\u001b[0m\u001b[0;32m      6\u001b[0m \u001b[0mfeat_imp\u001b[0m\u001b[1;33m[\u001b[0m\u001b[1;34m'feature'\u001b[0m\u001b[1;33m]\u001b[0m \u001b[1;33m=\u001b[0m \u001b[0mX\u001b[0m\u001b[1;33m.\u001b[0m\u001b[0mcolumns\u001b[0m\u001b[1;33m\u001b[0m\u001b[1;33m\u001b[0m\u001b[0m\n\u001b[0;32m      7\u001b[0m \u001b[0mfeat_imp\u001b[0m\u001b[1;33m.\u001b[0m\u001b[0msort_values\u001b[0m\u001b[1;33m(\u001b[0m\u001b[0mby\u001b[0m\u001b[1;33m=\u001b[0m\u001b[1;34m'Importance'\u001b[0m\u001b[1;33m,\u001b[0m \u001b[0mascending\u001b[0m\u001b[1;33m=\u001b[0m\u001b[1;32mFalse\u001b[0m\u001b[1;33m,\u001b[0m \u001b[0minplace\u001b[0m\u001b[1;33m=\u001b[0m\u001b[1;32mTrue\u001b[0m\u001b[1;33m)\u001b[0m\u001b[1;33m\u001b[0m\u001b[1;33m\u001b[0m\u001b[0m\n",
      "\u001b[1;31mAttributeError\u001b[0m: 'BernoulliNB' object has no attribute 'feature_importances_'"
     ]
    }
   ],
   "source": [
    "# Feature Importance\n",
    "title = 'Feature Importance:'\n",
    "figsize = (15, 10)\n",
    "\n",
    "feat_imp = pd.DataFrame({'Importance':model.feature_importances_})    \n",
    "feat_imp['feature'] = X.columns\n",
    "feat_imp.sort_values(by='Importance', ascending=False, inplace=True)\n",
    "feat_imp = feat_imp\n",
    "\n",
    "feat_imp.sort_values(by='Importance', inplace=True)\n",
    "feat_imp = feat_imp.set_index('feature', drop=True)\n",
    "feat_imp.plot.barh(title=title, figsize=figsize)\n",
    "plt.xlabel('Feature Importance Score')\n",
    "plt.show()"
   ]
  },
  {
   "cell_type": "code",
   "execution_count": null,
   "metadata": {},
   "outputs": [
    {
     "data": {
      "text/plain": [
       "['lazypredict/LGBM_mr_short_0419.pkl']"
      ]
     },
     "execution_count": 48,
     "metadata": {},
     "output_type": "execute_result"
    }
   ],
   "source": [
    "joblib.dump(model,'lazypredict/LGBM_mr_short_0419.pkl')"
   ]
  },
  {
   "cell_type": "code",
   "execution_count": null,
   "metadata": {},
   "outputs": [],
   "source": []
  },
  {
   "cell_type": "code",
   "execution_count": null,
   "metadata": {},
   "outputs": [],
   "source": []
  }
 ],
 "metadata": {
  "interpreter": {
   "hash": "dcab5abc01785e70b3d83a3d5bdbcfc50b734e2ce4fb9a60cd0f51c7553360e3"
  },
  "kernelspec": {
   "display_name": "Python 3.7.10 ('finlab')",
   "language": "python",
   "name": "python3"
  },
  "language_info": {
   "codemirror_mode": {
    "name": "ipython",
    "version": 3
   },
   "file_extension": ".py",
   "mimetype": "text/x-python",
   "name": "python",
   "nbconvert_exporter": "python",
   "pygments_lexer": "ipython3",
   "version": "3.7.10"
  },
  "orig_nbformat": 4
 },
 "nbformat": 4,
 "nbformat_minor": 2
}
