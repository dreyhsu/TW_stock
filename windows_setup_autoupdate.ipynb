{
 "cells": [
  {
   "cell_type": "markdown",
   "metadata": {},
   "source": [
    "# 操作說明\n",
    "\n",
    "windows 要用檔案排程器來操作，請參考hahow課程中「章節1 - 單元5」的老師的話來操作喔！"
   ]
  },
  {
   "cell_type": "code",
   "execution_count": 11,
   "metadata": {},
   "outputs": [
    {
     "name": "stdout",
     "output_type": "stream",
     "text": [
      "程式或指令碼: C:\\Users\\koreal6803\\Miniconda3\\envs\\finlab\\python.exe\n",
      "新增引數: C:\\Users\\koreal6803\\Desktop\\finlab_course_ml\\auto_update.py\n",
      "開始位置: C:\\Users\\koreal6803\\Desktop\\finlab_course_ml\n"
     ]
    }
   ],
   "source": [
    "import os\n",
    "\n",
    "# 找出課程位置\n",
    "import os\n",
    "course_path = os.getcwd()\n",
    "\n",
    "# 找到 python 執行檔位置\n",
    "import sys\n",
    "python_path = (sys.executable)\n",
    "\n",
    "\n",
    "print('程式或指令碼:', python_path)\n",
    "print('新增引數:', os.path.join(course_path, 'auto_update.py'))\n",
    "print('開始位置:', course_path)"
   ]
  }
 ],
 "metadata": {
  "kernelspec": {
   "display_name": "finlab",
   "language": "python",
   "name": "finlab"
  },
  "language_info": {
   "codemirror_mode": {
    "name": "ipython",
    "version": 3
   },
   "file_extension": ".py",
   "mimetype": "text/x-python",
   "name": "python",
   "nbconvert_exporter": "python",
   "pygments_lexer": "ipython3",
   "version": "3.6.8"
  }
 },
 "nbformat": 4,
 "nbformat_minor": 2
}
