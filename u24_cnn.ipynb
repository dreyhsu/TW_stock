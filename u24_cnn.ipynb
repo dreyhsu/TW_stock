{
 "cells": [
  {
   "cell_type": "markdown",
   "metadata": {},
   "source": [
    "# Convolutional Neural Network"
   ]
  },
  {
   "cell_type": "code",
   "execution_count": 1,
   "metadata": {},
   "outputs": [],
   "source": [
    "import pandas as pd\n",
    "from finlab.data import Data\n",
    "data = Data()\n",
    "twii = data.get(\"發行量加權股價指數\")\n",
    "twii = twii['台股指數']\n",
    "twii = twii.resample('15T').first().dropna()"
   ]
  },
  {
   "cell_type": "markdown",
   "metadata": {},
   "source": [
    "## 製作features"
   ]
  },
  {
   "cell_type": "code",
   "execution_count": 2,
   "metadata": {},
   "outputs": [
    {
     "data": {
      "application/vnd.jupyter.widget-view+json": {
       "model_id": "3b941c3333d04d58be4fa75fcfcd2b61",
       "version_major": 2,
       "version_minor": 0
      },
      "text/plain": [
       "HBox(children=(IntProgress(value=0, max=21134), HTML(value='')))"
      ]
     },
     "metadata": {},
     "output_type": "display_data"
    },
    {
     "name": "stdout",
     "output_type": "stream",
     "text": [
      "\n"
     ]
    }
   ],
   "source": [
    "import numpy as np\n",
    "import tqdm\n",
    "time_period = 200\n",
    "\n",
    "cnn_x = []\n",
    "cnn_y = []\n",
    "indexs = []\n",
    "for i in tqdm.tqdm_notebook(range(0, len(twii) - time_period - 1 - 11, 3)):\n",
    "    s = twii.iloc[i:i+time_period].values\n",
    "    cnn_x.append((s - s.min())/(s.max() - s.min()))\n",
    "    r = twii.iloc[i+time_period+10] / twii.iloc[i+time_period-1]\n",
    "    cnn_y.append(r)\n",
    "    indexs.append(twii.index[i+time_period-1])\n",
    "\n",
    "cnn_x = np.array(cnn_x)\n",
    "cnn_y = np.array(cnn_y)\n",
    "indexes = np.array(indexs)\n",
    "\n",
    "\n"
   ]
  },
  {
   "cell_type": "markdown",
   "metadata": {},
   "source": [
    "## Reshape features and labels"
   ]
  },
  {
   "cell_type": "code",
   "execution_count": 3,
   "metadata": {},
   "outputs": [],
   "source": [
    "cnn_x = cnn_x.reshape(len(cnn_x), time_period, 1)\n",
    "cnn_y = cnn_y.reshape(len(cnn_y), 1)"
   ]
  },
  {
   "cell_type": "markdown",
   "metadata": {},
   "source": [
    "## Split traning and testing data"
   ]
  },
  {
   "cell_type": "code",
   "execution_count": 4,
   "metadata": {},
   "outputs": [],
   "source": [
    "import datetime\n",
    "cnn_x_train = cnn_x[indexes < datetime.datetime(2016,1,1)]\n",
    "cnn_y_train = cnn_y[indexes < datetime.datetime(2016,1,1)]"
   ]
  },
  {
   "cell_type": "code",
   "execution_count": 5,
   "metadata": {},
   "outputs": [
    {
     "data": {
      "text/plain": [
       "[<matplotlib.lines.Line2D at 0x12cfc58d0>]"
      ]
     },
     "execution_count": 5,
     "metadata": {},
     "output_type": "execute_result"
    },
    {
     "data": {
      "image/png": "[encoded data removed]",
      "text/plain": [
       "<Figure size 432x288 with 1 Axes>"
      ]
     },
     "metadata": {
      "needs_background": "light"
     },
     "output_type": "display_data"
    }
   ],
   "source": [
    "import matplotlib.pyplot as plt\n",
    "%matplotlib inline\n",
    "plt.plot(cnn_x[0].reshape(1, len(cnn_x[0]))[0])\n"
   ]
  },
  {
   "cell_type": "markdown",
   "metadata": {},
   "source": [
    "## CNN"
   ]
  },
  {
   "cell_type": "code",
   "execution_count": 7,
   "metadata": {},
   "outputs": [
    {
     "name": "stderr",
     "output_type": "stream",
     "text": [
      "W0725 10:08:41.191534 4790453696 deprecation_wrapper.py:119] From /Users/cheng-yuhan/miniconda3/envs/finlab/lib/python3.6/site-packages/keras/backend/tensorflow_backend.py:517: The name tf.placeholder is deprecated. Please use tf.compat.v1.placeholder instead.\n",
      "\n",
      "W0725 10:08:41.201410 4790453696 deprecation_wrapper.py:119] From /Users/cheng-yuhan/miniconda3/envs/finlab/lib/python3.6/site-packages/keras/backend/tensorflow_backend.py:4138: The name tf.random_uniform is deprecated. Please use tf.random.uniform instead.\n",
      "\n",
      "W0725 10:08:41.239629 4790453696 deprecation_wrapper.py:119] From /Users/cheng-yuhan/miniconda3/envs/finlab/lib/python3.6/site-packages/keras/backend/tensorflow_backend.py:3980: The name tf.nn.avg_pool is deprecated. Please use tf.nn.avg_pool2d instead.\n",
      "\n",
      "W0725 10:08:41.378301 4790453696 deprecation_wrapper.py:119] From /Users/cheng-yuhan/miniconda3/envs/finlab/lib/python3.6/site-packages/keras/optimizers.py:790: The name tf.train.Optimizer is deprecated. Please use tf.compat.v1.train.Optimizer instead.\n",
      "\n",
      "W0725 10:08:41.499845 4790453696 deprecation_wrapper.py:119] From /Users/cheng-yuhan/miniconda3/envs/finlab/lib/python3.6/site-packages/keras/backend/tensorflow_backend.py:986: The name tf.assign_add is deprecated. Please use tf.compat.v1.assign_add instead.\n",
      "\n"
     ]
    },
    {
     "name": "stdout",
     "output_type": "stream",
     "text": [
      "_________________________________________________________________\n",
      "Layer (type)                 Output Shape              Param #   \n",
      "=================================================================\n",
      "conv1d_1 (Conv1D)            (None, 181, 20)           420       \n",
      "_________________________________________________________________\n",
      "average_pooling1d_1 (Average (None, 36, 20)            0         \n",
      "_________________________________________________________________\n",
      "conv1d_2 (Conv1D)            (None, 17, 20)            8020      \n",
      "_________________________________________________________________\n",
      "average_pooling1d_2 (Average (None, 3, 20)             0         \n",
      "_________________________________________________________________\n",
      "flatten_1 (Flatten)          (None, 60)                0         \n",
      "_________________________________________________________________\n",
      "dense_1 (Dense)              (None, 120)               7320      \n",
      "_________________________________________________________________\n",
      "dense_2 (Dense)              (None, 84)                10164     \n",
      "_________________________________________________________________\n",
      "dense_3 (Dense)              (None, 1)                 85        \n",
      "=================================================================\n",
      "Total params: 26,009\n",
      "Trainable params: 26,009\n",
      "Non-trainable params: 0\n",
      "_________________________________________________________________\n",
      "None\n"
     ]
    },
    {
     "name": "stderr",
     "output_type": "stream",
     "text": [
      "W0725 10:08:41.596187 4790453696 deprecation_wrapper.py:119] From /Users/cheng-yuhan/miniconda3/envs/finlab/lib/python3.6/site-packages/keras/backend/tensorflow_backend.py:973: The name tf.assign is deprecated. Please use tf.compat.v1.assign instead.\n",
      "\n"
     ]
    },
    {
     "name": "stdout",
     "output_type": "stream",
     "text": [
      "Train on 14082 samples, validate on 1565 samples\n",
      "Epoch 1/50\n",
      "14082/14082 [==============================] - 1s 69us/step - loss: 0.1393 - acc: 0.0000e+00 - val_loss: 0.0133 - val_acc: 0.0000e+00\n",
      "Epoch 2/50\n",
      "14082/14082 [==============================] - 1s 39us/step - loss: 0.0046 - acc: 0.0000e+00 - val_loss: 0.0031 - val_acc: 0.0000e+00\n",
      "Epoch 3/50\n",
      "14082/14082 [==============================] - 1s 40us/step - loss: 0.0015 - acc: 0.0000e+00 - val_loss: 0.0017 - val_acc: 0.0000e+00\n",
      "Epoch 4/50\n",
      "14082/14082 [==============================] - 1s 41us/step - loss: 7.8805e-04 - acc: 0.0000e+00 - val_loss: 9.3473e-04 - val_acc: 0.0000e+00\n",
      "Epoch 5/50\n",
      "14082/14082 [==============================] - 1s 41us/step - loss: 4.8768e-04 - acc: 0.0000e+00 - val_loss: 5.6456e-04 - val_acc: 0.0000e+00\n",
      "Epoch 6/50\n",
      "14082/14082 [==============================] - 1s 41us/step - loss: 3.4261e-04 - acc: 0.0000e+00 - val_loss: 3.9573e-04 - val_acc: 0.0000e+00\n",
      "Epoch 7/50\n",
      "14082/14082 [==============================] - 1s 40us/step - loss: 2.6016e-04 - acc: 0.0000e+00 - val_loss: 2.8494e-04 - val_acc: 0.0000e+00\n",
      "Epoch 8/50\n",
      "14082/14082 [==============================] - 1s 40us/step - loss: 2.1557e-04 - acc: 0.0000e+00 - val_loss: 2.6103e-04 - val_acc: 0.0000e+00\n",
      "Epoch 9/50\n",
      "14082/14082 [==============================] - 1s 42us/step - loss: 1.8374e-04 - acc: 0.0000e+00 - val_loss: 1.8345e-04 - val_acc: 0.0000e+00\n",
      "Epoch 10/50\n",
      "14082/14082 [==============================] - 1s 40us/step - loss: 1.7136e-04 - acc: 0.0000e+00 - val_loss: 1.8817e-04 - val_acc: 0.0000e+00\n",
      "Epoch 11/50\n",
      "14082/14082 [==============================] - 1s 39us/step - loss: 1.5283e-04 - acc: 0.0000e+00 - val_loss: 1.6673e-04 - val_acc: 0.0000e+00\n",
      "Epoch 12/50\n",
      "14082/14082 [==============================] - 1s 39us/step - loss: 1.4769e-04 - acc: 0.0000e+00 - val_loss: 1.3947e-04 - val_acc: 0.0000e+00\n",
      "Epoch 13/50\n",
      "14082/14082 [==============================] - 1s 38us/step - loss: 1.4005e-04 - acc: 0.0000e+00 - val_loss: 1.3225e-04 - val_acc: 0.0000e+00\n",
      "Epoch 14/50\n",
      "14082/14082 [==============================] - 1s 39us/step - loss: 1.3416e-04 - acc: 0.0000e+00 - val_loss: 1.1333e-04 - val_acc: 0.0000e+00\n",
      "Epoch 15/50\n",
      "14082/14082 [==============================] - 1s 38us/step - loss: 1.3190e-04 - acc: 0.0000e+00 - val_loss: 1.3192e-04 - val_acc: 0.0000e+00\n",
      "Epoch 16/50\n",
      "14082/14082 [==============================] - 1s 39us/step - loss: 1.2858e-04 - acc: 0.0000e+00 - val_loss: 1.0255e-04 - val_acc: 0.0000e+00\n",
      "Epoch 17/50\n",
      "14082/14082 [==============================] - 1s 40us/step - loss: 1.2684e-04 - acc: 0.0000e+00 - val_loss: 9.9432e-05 - val_acc: 0.0000e+00\n",
      "Epoch 18/50\n",
      "14082/14082 [==============================] - 1s 38us/step - loss: 1.2492e-04 - acc: 0.0000e+00 - val_loss: 9.9819e-05 - val_acc: 0.0000e+00\n",
      "Epoch 19/50\n",
      "14082/14082 [==============================] - 1s 39us/step - loss: 1.2534e-04 - acc: 0.0000e+00 - val_loss: 9.5530e-05 - val_acc: 0.0000e+00\n",
      "Epoch 20/50\n",
      "14082/14082 [==============================] - 1s 43us/step - loss: 1.2087e-04 - acc: 0.0000e+00 - val_loss: 9.5163e-05 - val_acc: 0.0000e+00\n",
      "Epoch 21/50\n",
      "14082/14082 [==============================] - 1s 40us/step - loss: 1.1983e-04 - acc: 0.0000e+00 - val_loss: 1.0993e-04 - val_acc: 0.0000e+00\n",
      "Epoch 22/50\n",
      "14082/14082 [==============================] - 1s 40us/step - loss: 1.2033e-04 - acc: 0.0000e+00 - val_loss: 9.3700e-05 - val_acc: 0.0000e+00\n",
      "Epoch 23/50\n",
      "14082/14082 [==============================] - 1s 40us/step - loss: 1.1729e-04 - acc: 0.0000e+00 - val_loss: 8.9899e-05 - val_acc: 0.0000e+00\n",
      "Epoch 24/50\n",
      "14082/14082 [==============================] - 1s 40us/step - loss: 1.1740e-04 - acc: 0.0000e+00 - val_loss: 8.7047e-05 - val_acc: 0.0000e+00\n",
      "Epoch 25/50\n",
      "14082/14082 [==============================] - 1s 41us/step - loss: 1.1632e-04 - acc: 0.0000e+00 - val_loss: 9.1126e-05 - val_acc: 0.0000e+00\n",
      "Epoch 26/50\n",
      "14082/14082 [==============================] - 1s 47us/step - loss: 1.1465e-04 - acc: 0.0000e+00 - val_loss: 8.4061e-05 - val_acc: 0.0000e+00\n",
      "Epoch 27/50\n",
      "14082/14082 [==============================] - 1s 44us/step - loss: 1.1546e-04 - acc: 0.0000e+00 - val_loss: 1.0919e-04 - val_acc: 0.0000e+00\n",
      "Epoch 28/50\n",
      "14082/14082 [==============================] - 1s 42us/step - loss: 1.1633e-04 - acc: 0.0000e+00 - val_loss: 8.5124e-05 - val_acc: 0.0000e+00\n",
      "Epoch 29/50\n",
      "14082/14082 [==============================] - 1s 37us/step - loss: 1.1354e-04 - acc: 0.0000e+00 - val_loss: 8.1753e-05 - val_acc: 0.0000e+00\n",
      "Epoch 30/50\n",
      "14082/14082 [==============================] - 0s 35us/step - loss: 1.1313e-04 - acc: 0.0000e+00 - val_loss: 8.4317e-05 - val_acc: 0.0000e+00\n",
      "Epoch 31/50\n",
      "14082/14082 [==============================] - 0s 35us/step - loss: 1.1293e-04 - acc: 0.0000e+00 - val_loss: 8.5888e-05 - val_acc: 0.0000e+00\n",
      "Epoch 32/50\n",
      "14082/14082 [==============================] - 0s 34us/step - loss: 1.1616e-04 - acc: 0.0000e+00 - val_loss: 8.5409e-05 - val_acc: 0.0000e+00\n",
      "Epoch 33/50\n",
      "14082/14082 [==============================] - 0s 34us/step - loss: 1.1132e-04 - acc: 0.0000e+00 - val_loss: 9.6488e-05 - val_acc: 0.0000e+00\n",
      "Epoch 34/50\n",
      "14082/14082 [==============================] - 1s 37us/step - loss: 1.1027e-04 - acc: 0.0000e+00 - val_loss: 8.6740e-05 - val_acc: 0.0000e+00\n",
      "Epoch 35/50\n",
      "14082/14082 [==============================] - 1s 39us/step - loss: 1.1062e-04 - acc: 0.0000e+00 - val_loss: 8.4446e-05 - val_acc: 0.0000e+00\n",
      "Epoch 36/50\n",
      "14082/14082 [==============================] - 1s 37us/step - loss: 1.1117e-04 - acc: 0.0000e+00 - val_loss: 9.1057e-05 - val_acc: 0.0000e+00\n",
      "Epoch 37/50\n",
      "14082/14082 [==============================] - 1s 37us/step - loss: 1.1142e-04 - acc: 0.0000e+00 - val_loss: 7.9768e-05 - val_acc: 0.0000e+00\n",
      "Epoch 38/50\n",
      "14082/14082 [==============================] - 0s 35us/step - loss: 1.0866e-04 - acc: 0.0000e+00 - val_loss: 7.6089e-05 - val_acc: 0.0000e+00\n",
      "Epoch 39/50\n",
      "14082/14082 [==============================] - 0s 35us/step - loss: 1.0941e-04 - acc: 0.0000e+00 - val_loss: 7.6439e-05 - val_acc: 0.0000e+00\n",
      "Epoch 40/50\n",
      "14082/14082 [==============================] - 1s 40us/step - loss: 1.1218e-04 - acc: 0.0000e+00 - val_loss: 7.5312e-05 - val_acc: 0.0000e+00\n",
      "Epoch 41/50\n",
      "14082/14082 [==============================] - 1s 46us/step - loss: 1.0977e-04 - acc: 0.0000e+00 - val_loss: 7.5040e-05 - val_acc: 0.0000e+00\n",
      "Epoch 42/50\n",
      "14082/14082 [==============================] - 1s 43us/step - loss: 1.0836e-04 - acc: 0.0000e+00 - val_loss: 7.6583e-05 - val_acc: 0.0000e+00\n",
      "Epoch 43/50\n",
      "14082/14082 [==============================] - 1s 42us/step - loss: 1.0866e-04 - acc: 0.0000e+00 - val_loss: 7.5059e-05 - val_acc: 0.0000e+00\n",
      "Epoch 44/50\n",
      "14082/14082 [==============================] - 1s 39us/step - loss: 1.0847e-04 - acc: 0.0000e+00 - val_loss: 7.6553e-05 - val_acc: 0.0000e+00\n",
      "Epoch 45/50\n",
      "14082/14082 [==============================] - 1s 38us/step - loss: 1.0732e-04 - acc: 0.0000e+00 - val_loss: 7.3669e-05 - val_acc: 0.0000e+00\n",
      "Epoch 46/50\n",
      "14082/14082 [==============================] - 1s 36us/step - loss: 1.0919e-04 - acc: 0.0000e+00 - val_loss: 7.8875e-05 - val_acc: 0.0000e+00\n",
      "Epoch 47/50\n",
      "14082/14082 [==============================] - 1s 36us/step - loss: 1.0721e-04 - acc: 0.0000e+00 - val_loss: 8.4441e-05 - val_acc: 0.0000e+00\n",
      "Epoch 48/50\n",
      "14082/14082 [==============================] - 0s 35us/step - loss: 1.0709e-04 - acc: 0.0000e+00 - val_loss: 7.4095e-05 - val_acc: 0.0000e+00\n",
      "Epoch 49/50\n",
      "14082/14082 [==============================] - 0s 34us/step - loss: 1.0693e-04 - acc: 0.0000e+00 - val_loss: 7.3341e-05 - val_acc: 0.0000e+00\n",
      "Epoch 50/50\n",
      "14082/14082 [==============================] - 1s 38us/step - loss: 1.0860e-04 - acc: 0.0000e+00 - val_loss: 8.5983e-05 - val_acc: 0.0000e+00\n"
     ]
    }
   ],
   "source": [
    "import keras.layers as layers\n",
    "import keras\n",
    "from keras.models import Sequential\n",
    "from keras.initializers import he_normal\n",
    "\n",
    "input_shape = cnn_x[0].shape\n",
    "time_period = 200\n",
    "num_classes = 1\n",
    "\n",
    "\n",
    "model_m = Sequential()\n",
    "\n",
    "model = keras.Sequential()\n",
    "\n",
    "model.add(layers.Conv1D(filters=20, kernel_size=20, activation='relu', input_shape=cnn_x[0].shape))\n",
    "model.add(layers.AveragePooling1D(5))\n",
    "\n",
    "model.add(layers.Conv1D(filters=20, kernel_size=20, activation='relu'))\n",
    "model.add(layers.AveragePooling1D(5))\n",
    "model.add(layers.Flatten())\n",
    "model.add(layers.Dense(units=120, activation='relu'))\n",
    "model.add(layers.Dense(units=84, activation='relu'))\n",
    "model.add(layers.Dense(units=1, ))#activation = 'softmax'))\n",
    "\n",
    "adam = keras.optimizers.Adam(lr=0.0005, beta_1=0.9, beta_2=0.99, epsilon=None, decay=0.01, amsgrad=False)\n",
    "\n",
    "model.compile(loss='mse',\n",
    "                optimizer=adam)\n",
    "\n",
    "print(model.summary())\n",
    "\n",
    "history = model.fit(cnn_x_train, cnn_y_train,\n",
    "                    batch_size=200,\n",
    "                    epochs=50,\n",
    "                    verbose=1,\n",
    "                    validation_split=0.1, )\n"
   ]
  },
  {
   "cell_type": "code",
   "execution_count": 8,
   "metadata": {},
   "outputs": [
    {
     "data": {
      "text/plain": [
       "[<matplotlib.lines.Line2D at 0xb43325b38>]"
      ]
     },
     "execution_count": 8,
     "metadata": {},
     "output_type": "execute_result"
    },
    {
     "data": {
      "image/png": "[encoded data removed]",
      "text/plain": [
       "<Figure size 432x288 with 1 Axes>"
      ]
     },
     "metadata": {
      "needs_background": "light"
     },
     "output_type": "display_data"
    }
   ],
   "source": [
    "import matplotlib.pyplot as plt\n",
    "%matplotlib inline\n",
    "plt.plot(np.log(history.history['loss'][1:]))\n",
    "plt.plot(np.log(history.history['val_loss']))"
   ]
  },
  {
   "cell_type": "code",
   "execution_count": 9,
   "metadata": {},
   "outputs": [],
   "source": [
    "ey = model.predict(cnn_x)\n",
    "ey = pd.Series(ey.swapaxes(0, 1)[0], index=indexes)"
   ]
  },
  {
   "cell_type": "code",
   "execution_count": 11,
   "metadata": {},
   "outputs": [
    {
     "data": {
      "text/plain": [
       "<matplotlib.axes._subplots.AxesSubplot at 0x122d22cc0>"
      ]
     },
     "execution_count": 11,
     "metadata": {},
     "output_type": "execute_result"
    },
    {
     "data": {
      "image/png": "[encoded data removed]",
      "text/plain": [
       "<Figure size 432x288 with 1 Axes>"
      ]
     },
     "metadata": {
      "needs_background": "light"
     },
     "output_type": "display_data"
    }
   ],
   "source": [
    "\n",
    "eq = twii[pd.to_datetime(indexes)]\n",
    "gain = (eq.shift(-1) - eq) \n",
    "\n",
    "signal = (ey > ey.quantile(0.9)).rolling(20).sum() > 0\n",
    "eq = (gain[signal])['2016':].cumsum()\n",
    "eq.plot()"
   ]
  },
  {
   "cell_type": "code",
   "execution_count": 183,
   "metadata": {},
   "outputs": [
    {
     "data": {
      "text/plain": [
       "164.0"
      ]
     },
     "execution_count": 183,
     "metadata": {},
     "output_type": "execute_result"
    }
   ],
   "source": [
    "signal['2016':].astype(int).diff().abs().sum()"
   ]
  }
 ],
 "metadata": {
  "kernelspec": {
   "display_name": "finlab",
   "language": "python",
   "name": "finlab"
  },
  "language_info": {
   "codemirror_mode": {
    "name": "ipython",
    "version": 3
   },
   "file_extension": ".py",
   "mimetype": "text/x-python",
   "name": "python",
   "nbconvert_exporter": "python",
   "pygments_lexer": "ipython3",
   "version": "3.6.8"
  }
 },
 "nbformat": 4,
 "nbformat_minor": 2
}
