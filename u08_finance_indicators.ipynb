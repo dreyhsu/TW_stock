{
 "cells": [
  {
   "cell_type": "markdown",
   "metadata": {},
   "source": [
    "# 常用的公司財報指標"
   ]
  },
  {
   "cell_type": "markdown",
   "metadata": {},
   "source": [
    "指標公式參考來源：\n",
    "http://www.tej.com.tw/webtej/plus/wim4.htm"
   ]
  },
  {
   "cell_type": "code",
   "execution_count": null,
   "metadata": {},
   "outputs": [],
   "source": [
    "from finlab.data import Data\n",
    "data = Data()"
   ]
  },
  {
   "cell_type": "markdown",
   "metadata": {},
   "source": [
    "## 瞭解資料庫有哪些欄位"
   ]
  },
  {
   "cell_type": "code",
   "execution_count": null,
   "metadata": {},
   "outputs": [],
   "source": [
    "data.col2table"
   ]
  },
  {
   "cell_type": "markdown",
   "metadata": {},
   "source": [
    "## 不同欄位名稱但是是同一項目"
   ]
  },
  {
   "cell_type": "code",
   "execution_count": null,
   "metadata": {},
   "outputs": [],
   "source": [
    "T2000股東權益總額 = data.get(\"權益總額\").fillna(data.get(\"權益總計\"))\n",
    "T2000股東權益總額"
   ]
  },
  {
   "cell_type": "markdown",
   "metadata": {},
   "source": [
    "## 前期後期股東權益"
   ]
  },
  {
   "cell_type": "code",
   "execution_count": null,
   "metadata": {},
   "outputs": [],
   "source": []
  },
  {
   "cell_type": "markdown",
   "metadata": {},
   "source": [
    "# 計算所有財經指數"
   ]
  },
  {
   "cell_type": "code",
   "execution_count": null,
   "metadata": {},
   "outputs": [],
   "source": [
    "T0112現金及約當現金 = data.get(\"期末現金及約當現金餘額\")\n",
    "T3900繼續營業部門稅前純益 = data.get('繼續營業單位稅前淨利（淨損）')\n",
    "T3970經常稅後淨利 = data.get('本期淨利（淨損）').fillna(data.get('本期稅後淨利（淨損）'))\n",
    "T2000權益總計 = data.get('權益總計').fillna(data.get('權益總額'))\n",
    "T3295營業毛利 = data.get('營業毛利（毛損）').fillna(data.get('營業毛利（毛損）淨額'))\n",
    "T3100營業收入淨額 = data.get(\"營業收入合計\")\n",
    "T3700營業外收入及支出 = data.get(\"營業外收入及支出合計\").fillna(data.get(\"營業外損益合計\"))\n",
    "T3910所得稅費用 = (data.get(\"所得稅費用（利益）合計\").fillna(data.get(\"本期所得稅費用（利益）\"))\n",
    "    .fillna(data.get(\"當期所得稅費用（利益）\"))\n",
    "    .fillna(data.get(\"所得稅費用（利益）淨額\"))\n",
    "    .fillna(data.get(\"所得稅費用（利益）\"))\n",
    "    .fillna(-data.get(\"所得稅（費用）利益\").fillna(data.get(\"所得稅利益（費用）\")).dropna(how='all', axis=1))\n",
    ")\n",
    "T3300營業費用 = data.get(\"營業費用合計\")\n",
    "T7211折舊 = data.get('折舊費用', table='cash_flows')\n",
    "T7212攤提 = data.get('攤銷費用', table='cash_flows')\n",
    "\n",
    "T3920繼續營業部門純益 = T3900繼續營業部門稅前純益 - T3910所得稅費用\n",
    "T0170存貨 = data.get(\"存貨合計\").fillna(data.get(\"存貨\"))\n",
    "股本 = data.get('股本合計')\n",
    "T0400不動產廠房設備合計 = (data.get(\"不動產、廠房及設備合計\")\n",
    "                  .fillna(data.get(\"不動產、廠房及設備\"))\n",
    "                  .fillna(data.get(\"不動產及設備合計\"))\n",
    "                  .fillna(data.get('不動產、廠房及設備淨額'))\n",
    "                  .fillna(data.get(\"不動產及設備－淨額\"))\n",
    "                 )\n",
    "T0960非流動資產 = data.get(\"非流動資產合計\").fillna(data.get(\"非流動資產淨額\"))\n",
    "T1800非流動負債 = data.get(\"非流動負債合計\")\n",
    "T1100流動負債 = data.get(\"流動負債合計\").fillna(data.get(\"流動負債總額\"))\n",
    "T0100流動資產 = data.get(\"流動資產合計\")\n",
    "T3501財物成本 = data.get('財務成本').fillna(data.get(\"財務成本淨額\"))\n",
    "T0010資產總額 = T0100流動資產 + T0960非流動資產\n",
    "T3971本期綜合損益總額 = data.get(\"本期綜合損益總額\").fillna(data.get(\"綜合損益總額\"))\n",
    "T3395營業利益 = data.get('營業利益（損失）').fillna(data.get('營業利益'))\n",
    "T2403稅前息前折舊前淨利 = T3900繼續營業部門稅前純益 + T3501財物成本 + T7211折舊 + T7212攤提\n",
    "T2402稅前息前淨利 = T3900繼續營業部門稅前純益 + T3501財物成本\n",
    "R202用人費用率 = data.get(\"管理費用合計\").fillna(data.get(\"管理費用\"))\n",
    "T3356研究發展費 = data.get(\"研究發展費用\").fillna(data.get(\"研究發展費用合計\")).fillna(data.get(\"委託研究費\"))\n",
    "T7210營運現金流 = data.get(\"營運產生之現金流入（流出）\")\n",
    "T3950歸屬母公司淨利 = data.get(\"歸屬於母公司業主之權益合計\")\n",
    "T1000負債總額 = data.get(\"負債總額\").fillna(data.get(\"負債總計\"))\n",
    "T3200營業成本 = data.get(\"營業成本合計\")\n",
    "T7324取得不動產廠房及設備 = (data.get(\"取得不動產、廠房及設備\")\n",
    "                  .fillna(data.get(\"取得不動產及設備\")))\n",
    "#2018年(含)以後所得稅率為20% \n",
    "#2010年(含)至2017年(含)期間所得稅率為17% \n",
    "#2009年(含)以前所得稅率為25% \n",
    "\n",
    "import pandas as pd\n",
    "所得稅率 = pd.DataFrame(0.2, index=T3501財物成本.index, columns=T3501財物成本.columns)\n",
    "所得稅率.loc[:'2017'] = 17\n",
    "所得稅率.loc[:'2009'] = 25\n",
    "\n",
    "# 獲利能力指標\n",
    "\n",
    "R101_ROA稅後息前 = (T3920繼續營業部門純益 + T3501財物成本 * (1 - 所得稅率)) / (T0010資產總額 + T0010資產總額.shift()) * 2 * 100\n",
    "R11V_ROA綜合損益 = T3971本期綜合損益總額 / (T0010資產總額 + T0010資產總額.shift()) * 2 * 100\n",
    "R103_ROE稅後 =  T3920繼續營業部門純益 /(T2000權益總計 + T2000權益總計.shift()).abs() * 2 * 100\n",
    "R11U_ROE綜合損益 =  (T3971本期綜合損益總額/((T2000權益總計+T2000權益總計.shift())/2)) * 100\n",
    "\n",
    "R145_稅前息前折舊前淨利率 = T2403稅前息前折舊前淨利/T3100營業收入淨額*100\n",
    "R105_營業毛利率 = T3295營業毛利 / T3100營業收入淨額 *100\n",
    "R106_營業利益率 = T3395營業利益 / T3100營業收入淨額 *100\n",
    "R107_稅前淨利率 = T3900繼續營業部門稅前純益 / T3100營業收入淨額 *100\n",
    "R108_稅後淨利率 = T3970經常稅後淨利 / T3100營業收入淨額 *100\n",
    "R112_業外收支營收率 = T3700營業外收入及支出 / T3100營業收入淨額 * 100\n",
    "R179_貝里比率 = T3295營業毛利 / T3300營業費用 * 100\n",
    "\n",
    "# 成本費用率指標\n",
    "\n",
    "R203_研究發展費用率 = T3356研究發展費 / T3300營業費用 * 100\n",
    "R205_現金流量比率 = T7210營運現金流 / T1100流動負債 *100\n",
    "R207_稅率 = (T3910所得稅費用 / T3900繼續營業部門稅前純益 *100)\n",
    "R207_稅率[((T3900繼續營業部門稅前純益 <= 0) | (T3910所得稅費用 <= 0)).fillna(False)] = 0\n",
    "\n",
    "# 償債能力指標\n",
    "R304_每股營業額 = T3100營業收入淨額/股本 * 10\n",
    "R305_每股營業利益 = T3395營業利益 / 股本 * 10\n",
    "R303_每股現金流量 = T7210營運現金流 / 股本 * 10\n",
    "R306_每股稅前淨利 = T3900繼續營業部門稅前純益 / 股本 * 10\n",
    "R314_每股綜合損益 = T3971本期綜合損益總額 / 股本 * 10\n",
    "R315_每股稅前淨利 = T3900繼續營業部門稅前純益 / 股本 * 10\n",
    "R316_每股稅後淨利 = T3950歸屬母公司淨利 / 股本 * 10\n",
    "R504_總負債除總淨值 = T1000負債總額 / T2000權益總計 * 100\n",
    "R505_負債比率 = T1000負債總額 / T0010資產總額 * 100\n",
    "R506_淨值除資產 = T2000權益總計 / T0010資產總額 * 100\n",
    "\n",
    "\n",
    "# 成長率指標\n",
    "def 成長率(s):\n",
    "    return (s / s.shift(4) - 1) * 100\n",
    "\n",
    "R401_營收成長率 = 成長率(T3100營業收入淨額)\n",
    "R402_營業毛利成長率 = 成長率(T3295營業毛利)\n",
    "R403_營業利益成長率 = 成長率(T3395營業利益)\n",
    "R404_稅前淨利成長率 = 成長率(T3900繼續營業部門稅前純益)\n",
    "R405_稅後淨利成長率 = 成長率(T3970經常稅後淨利)\n",
    "R406_經常利益成長率 = 成長率(T3920繼續營業部門純益)\n",
    "R408_資產總額成長率 = 成長率(T0010資產總額)\n",
    "R409_淨值成長率  = 成長率(T2000權益總計)\n",
    "\n",
    "# 償債能力指標\n",
    "R501_流動比率 = T0100流動資產 / T1100流動負債 *100\n",
    "R502_速動比率 = (T0100流動資產 - T0170存貨) / T1100流動負債 *100\n",
    "R503_利息支出率 = T3501財物成本 /(T3920繼續營業部門純益 + T3501財物成本 *(1-所得稅率)) *100\n",
    "\n",
    "\n",
    "R678_營運資金 = T0100流動資產 - T1100流動負債\n",
    "R607_總資產週轉次數 = T3100營業收入淨額 / T0010資產總額.rolling(4).sum()\n",
    "R610_存貨週轉率 = T3200營業成本 / T0170存貨.rolling(4).sum()\n",
    "R612_固定資產週轉次數 = T3100營業收入淨額 - T0400不動產廠房設備合計\n",
    "R613_淨值週轉率次 = T3100營業收入淨額 / T2000權益總計.rolling(4).sum()\n",
    "R69B_自由現金流量 = T3970經常稅後淨利 + T7211折舊 + T7212攤提 + T7324取得不動產廠房及設備 +((\n",
    "    T0100流動資產 - T1100流動負債) - (T0100流動資產.shift() - T1100流動負債.shift()))\n",
    "\n"
   ]
  },
  {
   "cell_type": "markdown",
   "metadata": {},
   "source": [
    "## 將這些資料整理成DataFrame"
   ]
  },
  {
   "cell_type": "code",
   "execution_count": null,
   "metadata": {},
   "outputs": [],
   "source": [
    "fundamental_data = {\n",
    "        \n",
    "        # 獲利能力指標\n",
    "        'R101_ROA稅後息前': R101_ROA稅後息前,\n",
    "        'R11V_ROA綜合損益': R11V_ROA綜合損益,\n",
    "        'R103_ROE稅後': R103_ROE稅後,\n",
    "        'R11U_ROE綜合損益': R11U_ROE綜合損益,\n",
    "        'R145_稅前息前折舊前淨利率': R145_稅前息前折舊前淨利率,\n",
    "        'R105_營業毛利率': R105_營業毛利率,\n",
    "        'R106_營業利益率': R106_營業利益率,\n",
    "        'R107_稅前淨利率': R107_稅前淨利率,\n",
    "        'R108_稅後淨利率': R108_稅後淨利率,\n",
    "        'R112_業外收支營收率': R112_業外收支營收率,\n",
    "        'R179_貝里比率': R179_貝里比率,\n",
    "        \n",
    "        # 成本費用率指標\n",
    "        'R203_研究發展費用率': R203_研究發展費用率,\n",
    "        'R205_現金流量比率': R205_現金流量比率,\n",
    "        'R207_稅率': R207_稅率,\n",
    "        \n",
    "        # 償債能力指標\n",
    "        'R304_每股營業額': R304_每股營業額,\n",
    "        'R305_每股營業利益': R305_每股營業利益,\n",
    "        'R303_每股現金流量': R303_每股現金流量,\n",
    "        'R306_每股稅前淨利': R306_每股稅前淨利,\n",
    "        'R314_每股綜合損益': R314_每股綜合損益,\n",
    "        'R315_每股稅前淨利': R315_每股稅前淨利,\n",
    "        'R316_每股稅後淨利': R316_每股稅後淨利,\n",
    "        'R504_總負債除總淨值': R504_總負債除總淨值,\n",
    "        'R505_負債比率': R505_負債比率,\n",
    "        'R506_淨值除資產': R506_淨值除資產,\n",
    "        \n",
    "        # 成長率指標\n",
    "        'R401_營收成長率': R401_營收成長率,\n",
    "        'R402_營業毛利成長率': R402_營業毛利成長率,\n",
    "        'R403_營業利益成長率': R403_營業利益成長率,\n",
    "        'R404_稅前淨利成長率': R404_稅前淨利成長率,\n",
    "        'R405_稅後淨利成長率': R405_稅後淨利成長率,\n",
    "        'R406_經常利益成長率': R406_經常利益成長率,\n",
    "        'R408_資產總額成長率': R408_資產總額成長率,\n",
    "        'R409_淨值成長率': R409_淨值成長率,\n",
    "        \n",
    "        # 償債能力指標\n",
    "        'R501_流動比率': R501_流動比率,\n",
    "        'R502_速動比率': R502_速動比率,\n",
    "        'R503_利息支出率': R503_利息支出率,\n",
    "        'R678_營運資金': R678_營運資金,\n",
    "        'R607_總資產週轉次數': R607_總資產週轉次數,\n",
    "        'R610_存貨週轉率': R610_存貨週轉率,\n",
    "        'R612_固定資產週轉次數': R612_固定資產週轉次數,\n",
    "        'R613_淨值週轉率次': R613_淨值週轉率次,\n",
    "        'R69B_自由現金流量': R69B_自由現金流量,\n",
    "}\n",
    "\n",
    "df = pd.DataFrame({name: df.unstack() for name, df in fundamental_data.items()})"
   ]
  },
  {
   "cell_type": "code",
   "execution_count": null,
   "metadata": {},
   "outputs": [],
   "source": [
    "combined_data = {}\n",
    "for name, df in fundamental_data.items():\n",
    "    combined_data[name] = df.unstack()\n",
    "    \n",
    "df = pd.DataFrame(combined_data)"
   ]
  },
  {
   "cell_type": "markdown",
   "metadata": {},
   "source": [
    "## 其實已經寫在finlab packages裡面了"
   ]
  },
  {
   "cell_type": "code",
   "execution_count": null,
   "metadata": {},
   "outputs": [],
   "source": [
    "from finlab.ml import fundamental_features\n",
    "\n",
    "df = fundamental_features()\n"
   ]
  },
  {
   "cell_type": "code",
   "execution_count": null,
   "metadata": {},
   "outputs": [],
   "source": [
    "df.loc['1101']\n",
    "#['103_ROE_稅後']"
   ]
  },
  {
   "cell_type": "markdown",
   "metadata": {},
   "source": [
    "## 瞭解哪些財務數據是重要的："
   ]
  },
  {
   "cell_type": "code",
   "execution_count": null,
   "metadata": {},
   "outputs": [],
   "source": [
    "# 使用random forest"
   ]
  }
 ],
 "metadata": {
  "kernelspec": {
   "display_name": "finlab",
   "language": "python",
   "name": "finlab"
  },
  "language_info": {
   "codemirror_mode": {
    "name": "ipython",
    "version": 3
   },
   "file_extension": ".py",
   "mimetype": "text/x-python",
   "name": "python",
   "nbconvert_exporter": "python",
   "pygments_lexer": "ipython3",
   "version": "3.6.8"
  }
 },
 "nbformat": 4,
 "nbformat_minor": 4
}
